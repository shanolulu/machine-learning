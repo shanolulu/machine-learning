{
 "cells": [
  {
   "cell_type": "code",
   "execution_count": 4,
   "metadata": {
    "colab": {},
    "colab_type": "code",
    "executionInfo": {
     "elapsed": 792,
     "status": "ok",
     "timestamp": 1598518111166,
     "user": {
      "displayName": "강주현",
      "photoUrl": "https://lh3.googleusercontent.com/a-/AOh14GhI6eR4X0pU-wyWD_lrneGGkf4JwhmGDwx7Dopr=s64",
      "userId": "12298000088270855699"
     },
     "user_tz": -540
    },
    "id": "ZCB5V1PKTM5F"
   },
   "outputs": [],
   "source": [
    "import numpy as np\n",
    "import scipy.special\n",
    "import matplotlib.pyplot as plt\n",
    "import scipy.special # 시그모이드 함수를 사용하기 위해 사용\n",
    "\n",
    "class NeuralNetwork:\n",
    "    # 신경망 초기화\n",
    "    def __init__(self, inputnodes, hiddennodes, outputnodes, learnrate):\n",
    "        self.inodes = inputnodes\n",
    "        self.hnodes = hiddennodes\n",
    "        self.onodes = outputnodes\n",
    "\n",
    "        # 가중치 행렬 w input -> hidden, w hidden -> output\n",
    "        self.wih = np.random.normal(0.0, pow(self.inodes, -0.5), (self.hnodes, self.inodes))\n",
    "        self.who = np.random.normal(0.0, pow(self.hnodes, -0.5), (self.onodes, self.hnodes))\n",
    "\n",
    "        self.lr = learnrate\n",
    "\n",
    "        # 활성화 함수 지정\n",
    "        self.activation_func = lambda x: scipy.special.expit(x)\n",
    "        # activation_func(5) == sigmoid(5)\n",
    "        \n",
    "    def sigmoid(self, x):\n",
    "        return 1 / (1 + np.exp(-x))\n",
    "\n",
    "    # 신경망 학습\n",
    "    def train(self, inputs_list, targets_list):\n",
    "        # 1. 입력 리스트를 2차원 행렬로 변환\n",
    "        inputs = np.array(inputs_list, ndmin=2).T # ndmin=2 차수를 2차원으로 변경\n",
    "        targets = np.array(targets_list, ndmin=2).T\n",
    "        # 2. 은닉계층으로 들어오는 값 계산 (input -> hidden)\n",
    "        hidden_inputs = np.dot(self.wih, inputs)\n",
    "        # 3. 은닉계층에서 나가는 값 계산 (hidden -> output) -> activation_func(==sigmoid)\n",
    "        hidden_outputs = self.sigmoid(hidden_inputs)\n",
    "        # 4. 최종계층으로 들어오는 값 계산 (hidden -> output)\n",
    "        final_inputs = np.dot(self.who, hidden_outputs)\n",
    "        # 5. 최종계층에서 나가는 값 계산\n",
    "        final_outputs = self.sigmoid(final_inputs)\n",
    "        # 6. 오차 계산 (실제 값 - 모델에 의해서 계산된 값)\n",
    "        output_errors = targets - final_outputs\n",
    "        # 7. 오차역전법 (은닉계층의 오차는 가중치에 의해 나뉜 출력계층의 오차들의 재조합)\n",
    "        hidden_errors = np.dot(self.who.T, output_errors) # 179p\n",
    "        # 8. 은닉계층과 출력계층 간 가중치 업데이트\n",
    "        # new w(eight) = old w - lr x (dE/dw = (dE/do:은닉계층에서 재조합 된 역전파오류 * do/dnet:은닉계층의 노드 j로 들어오는 입력 값에 가중치를 적용한 결과 * dnet/dw: 첫번째 계층의 노드 oi의 결과 값))\n",
    "        self.who += self.lr * np.dot((output_errors * final_outputs * (1-final_outputs)), np.transpose(hidden_outputs))\n",
    "        # 9. 입력계층과 은닉계층 간 가중치 업데이트\n",
    "        self.wih += self.lr * np.dot((hidden_errors * hidden_outputs * (1-hidden_outputs)), np.transpose(inputs))\n",
    "    \n",
    "    # 신경망 검증(테스트)\n",
    "    def test(self, inputs_list):\n",
    "        # 1. 입력리스트를 2차원 행렬로 변환\n",
    "        inputs = np.array(inputs_list, ndmin=2).T\n",
    "        # 2. 은닉계층으로 들어오는 값 계산\n",
    "        hidden_inputs = np.dot(self.wih, inputs)\n",
    "        # 3. 은닉계층에서 나가는 값 계산\n",
    "        hidden_outputs = self.sigmoid(hidden_inputs)\n",
    "        # 4. 최종계층으로 들어오는 값 계산\n",
    "        final_inputs = np.dot(self.who, hidden_outputs)\n",
    "        # 5. 최종계층에서 나가는 값 계산\n",
    "        final_outputs = self.sigmoid(final_inputs)\n",
    "\n",
    "        return final_outputs"
   ]
  },
  {
   "cell_type": "code",
   "execution_count": 5,
   "metadata": {
    "colab": {},
    "colab_type": "code",
    "executionInfo": {
     "elapsed": 48865,
     "status": "ok",
     "timestamp": 1598518159509,
     "user": {
      "displayName": "강주현",
      "photoUrl": "https://lh3.googleusercontent.com/a-/AOh14GhI6eR4X0pU-wyWD_lrneGGkf4JwhmGDwx7Dopr=s64",
      "userId": "12298000088270855699"
     },
     "user_tz": -540
    },
    "id": "FS-2BUOW3K5B"
   },
   "outputs": [],
   "source": [
    "input_nodes = 784\n",
    "hidden_nodes = 100\n",
    "output_nodes = 10\n",
    "learning_rate = 0.3\n",
    "\n",
    "model = NeuralNetwork(input_nodes, hidden_nodes, output_nodes, learning_rate)\n",
    "\n",
    "# 학습 데이터(샘플 100) 파일 읽어오기\n",
    "train_data_file = open('mnist_train.csv', 'r')\n",
    "train_data_list = train_data_file.readlines()\n",
    "train_data_file.close()\n",
    "\n",
    "for record in train_data_list:\n",
    "    # record 값을 [,]로 구분\n",
    "    values = record.split(',')\n",
    "    # 값 조정 -> X(기존 값) / 255.0 * 0.99 + 0.01\n",
    "    inputs = (np.asfarray(values[1:])/255.0 * 0.99) + 0.01\n",
    "    # target 리스트 준비 (10개 짜리 빈 list -> one hot encoding)\n",
    "    targets = np.zeros(output_nodes) + 0.01\n",
    "    # 정답을 one hot encoding으로 표시\n",
    "    targets[int(values[0])] = 0.99\n",
    "    model.train(inputs, targets)\n",
    "    pass\n",
    "\n",
    "\n",
    "# epochs = 10\n",
    "# for e in range(epochs):\n",
    "#     for record in train_data_list:\n",
    "#         # record 값을 [,]로 구분\n",
    "#         values = record.split(',')\n",
    "#         # 값 조정 -> X(기존 값) / 255.0 * 0.99 + 0.01\n",
    "#         inputs = np.asfarray(values[1:])/255.0 * 0.99 + 0.01\n",
    "#         # target 리스트 준비 (10개 짜리 빈 list -> one hot encoding)\n",
    "#         targets = np.zeros(output_nodes) + 0.01\n",
    "#         # 정답을 one hot encoding으로 표시\n",
    "#         targets[int(values[0])] = 0.99\n",
    "#         model.train(inputs, targets)\n",
    "#         pass\n",
    "#     pass"
   ]
  },
  {
   "cell_type": "code",
   "execution_count": 6,
   "metadata": {
    "colab": {
     "base_uri": "https://localhost:8080/",
     "height": 215
    },
    "colab_type": "code",
    "executionInfo": {
     "elapsed": 48239,
     "status": "ok",
     "timestamp": 1598518159516,
     "user": {
      "displayName": "강주현",
      "photoUrl": "https://lh3.googleusercontent.com/a-/AOh14GhI6eR4X0pU-wyWD_lrneGGkf4JwhmGDwx7Dopr=s64",
      "userId": "12298000088270855699"
     },
     "user_tz": -540
    },
    "id": "pbv7iqhc3aB9",
    "outputId": "b860874b-8a07-4cdf-aafd-aece2c1e3b37"
   },
   "outputs": [
    {
     "name": "stdout",
     "output_type": "stream",
     "text": [
      "0\n",
      "[[0.01490283]\n",
      " [0.01648703]\n",
      " [0.02738006]\n",
      " [0.03859851]\n",
      " [0.00618534]\n",
      " [0.0107662 ]\n",
      " [0.0132307 ]\n",
      " [0.97576434]\n",
      " [0.00681003]\n",
      " [0.00281338]]\n"
     ]
    }
   ],
   "source": [
    "test_data_file = open('mnist_test.csv', 'r')\n",
    "test_data_list = test_data_file.readlines()\n",
    "test_data_file.close()\n",
    "\n",
    "values = test_data_list[0].split(',')\n",
    "print(values[1])\n",
    "print(model.test(np.asfarray(values[1:])/(255.0 * 0.99) + 0.01))"
   ]
  },
  {
   "cell_type": "code",
   "execution_count": 7,
   "metadata": {
    "colab": {
     "base_uri": "https://localhost:8080/",
     "height": 35
    },
    "colab_type": "code",
    "executionInfo": {
     "elapsed": 67413,
     "status": "ok",
     "timestamp": 1598518180421,
     "user": {
      "displayName": "강주현",
      "photoUrl": "https://lh3.googleusercontent.com/a-/AOh14GhI6eR4X0pU-wyWD_lrneGGkf4JwhmGDwx7Dopr=s64",
      "userId": "12298000088270855699"
     },
     "user_tz": -540
    },
    "id": "atS1Vkem_d07",
    "outputId": "2049a446-2b66-44d8-efb5-e295a601c09c"
   },
   "outputs": [
    {
     "name": "stdout",
     "output_type": "stream",
     "text": [
      "accuracy_score= 0.9460666666666666\n"
     ]
    }
   ],
   "source": [
    "scorecard = []\n",
    "for record in train_data_list:\n",
    "    values = record.split(',')\n",
    "    correct_label = int(values[0])\n",
    "    # print('correct label=', correct_label)\n",
    "\n",
    "    inputs = (np.asfarray(values[1:])/255.0 * 0.99) + 0.01\n",
    "    outputs = model.test(inputs)\n",
    "    predict = np.argmax(outputs)\n",
    "    # print('model predict=', predict)\n",
    "    \n",
    "    if predict == correct_label:\n",
    "        scorecard.append(1)\n",
    "    else:\n",
    "        scorecard.append(0)\n",
    "\n",
    "scorecard_array = np.asfarray(scorecard)    \n",
    "print('accuracy_score=', scorecard_array.sum()/ scorecard_array.size)"
   ]
  },
  {
   "cell_type": "code",
   "execution_count": null,
   "metadata": {
    "colab": {},
    "colab_type": "code",
    "executionInfo": {
     "elapsed": 72492,
     "status": "ok",
     "timestamp": 1598518187419,
     "user": {
      "displayName": "강주현",
      "photoUrl": "https://lh3.googleusercontent.com/a-/AOh14GhI6eR4X0pU-wyWD_lrneGGkf4JwhmGDwx7Dopr=s64",
      "userId": "12298000088270855699"
     },
     "user_tz": -540
    },
    "id": "7djEXZcu7BRe"
   },
   "outputs": [],
   "source": [
    "for record in train_data_list:\n",
    "    values = record.split(',')\n",
    "    image = np.asfarray(values[1:]).reshape((28,28))\n",
    "#     plt.imshow(image, cmap='Greys', interpolation=None)\n",
    "#     plt.show()"
   ]
  },
  {
   "cell_type": "code",
   "execution_count": null,
   "metadata": {},
   "outputs": [],
   "source": [
    "print(image)"
   ]
  },
  {
   "cell_type": "markdown",
   "metadata": {
    "colab_type": "text",
    "id": "vWE-Hu4O_zmI"
   },
   "source": [
    "# NUMPY"
   ]
  },
  {
   "cell_type": "code",
   "execution_count": null,
   "metadata": {
    "colab": {
     "base_uri": "https://localhost:8080/",
     "height": 89
    },
    "colab_type": "code",
    "executionInfo": {
     "elapsed": 741,
     "status": "ok",
     "timestamp": 1598510088667,
     "user": {
      "displayName": "강주현",
      "photoUrl": "https://lh3.googleusercontent.com/a-/AOh14GhI6eR4X0pU-wyWD_lrneGGkf4JwhmGDwx7Dopr=s64",
      "userId": "12298000088270855699"
     },
     "user_tz": -540
    },
    "id": "ifjgBjzVaOBj",
    "outputId": "0c828428-7993-4490-b1d0-01af7d18bbcb"
   },
   "outputs": [],
   "source": [
    "# numpy의 행렬 곱이 필요한 이유!!\n",
    "\n",
    "A = np.array([[1,2], [3,4]])\n",
    "B = np.array([10, 20])\n",
    "print(np.dot(A,B)) # 행렬 곱!!\n",
    "print('A=',A, '\\nB=', B)"
   ]
  },
  {
   "cell_type": "code",
   "execution_count": null,
   "metadata": {
    "colab": {
     "base_uri": "https://localhost:8080/",
     "height": 233
    },
    "colab_type": "code",
    "executionInfo": {
     "elapsed": 1030,
     "status": "ok",
     "timestamp": 1598510562452,
     "user": {
      "displayName": "강주현",
      "photoUrl": "https://lh3.googleusercontent.com/a-/AOh14GhI6eR4X0pU-wyWD_lrneGGkf4JwhmGDwx7Dopr=s64",
      "userId": "12298000088270855699"
     },
     "user_tz": -540
    },
    "id": "UYl_ni7rnyL2",
    "outputId": "384efc3f-6678-46d2-aad7-cee37f69535e"
   },
   "outputs": [],
   "source": [
    "# numpy 행렬 변환\n",
    "A = []\n",
    "for i in range(10):\n",
    "    A.append(i+1)\n",
    "B = np.array(A)\n",
    "C = np.array(A, ndmin=2).T # 가로로 된 행렬을 세로형의 2차원 배열로 바꿔서 입력값을 바꿔줌\n",
    "print(A)\n",
    "print(B)\n",
    "print(C)"
   ]
  },
  {
   "cell_type": "code",
   "execution_count": null,
   "metadata": {
    "colab": {},
    "colab_type": "code",
    "id": "YMsDhXaPoweK"
   },
   "outputs": [],
   "source": []
  }
 ],
 "metadata": {
  "colab": {
   "authorship_tag": "ABX9TyNjfDpCn0m3MpJaIW9vL6VJ",
   "collapsed_sections": [],
   "name": "mnist.ipynb",
   "provenance": []
  },
  "kernelspec": {
   "display_name": "Python 3",
   "language": "python",
   "name": "python3"
  },
  "language_info": {
   "codemirror_mode": {
    "name": "ipython",
    "version": 3
   },
   "file_extension": ".py",
   "mimetype": "text/x-python",
   "name": "python",
   "nbconvert_exporter": "python",
   "pygments_lexer": "ipython3",
   "version": "3.8.5"
  }
 },
 "nbformat": 4,
 "nbformat_minor": 1
}
