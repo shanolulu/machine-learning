{
 "cells": [
  {
   "cell_type": "code",
   "execution_count": 1,
   "metadata": {},
   "outputs": [],
   "source": [
    "import matplotlib.pyplot as plt\n",
    "%matplotlib inline\n",
    "#notebook 이미지가 별도로 실행됨\n",
    "\n",
    "from matplotlib import font_manager, rc\n",
    "from math import sqrt\n",
    "\n",
    "# 폰트 설정인데 \n",
    "import matplotlib.font_manager as fm\n",
    "# font_name = fm.FontProperties(fname='C:/Windows/Fonts/malgun.ttf').get_name()\n",
    "# plt.rc('font',family = font_name)\n",
    "rc('font', family='AppleGothic')\n",
    "plt.rcParams['axes.unicode_minus'] = False"
   ]
  },
  {
   "cell_type": "code",
   "execution_count": 19,
   "metadata": {
    "scrolled": true
   },
   "outputs": [
    {
     "data": {
      "image/png": "[encoded data removed]",
      "text/plain": [
       "<Figure size 576x360 with 1 Axes>"
      ]
     },
     "metadata": {
      "needs_background": "light"
     },
     "output_type": "display_data"
    }
   ],
   "source": [
    "plt.figure(figsize=(8,5)) # 사각형 크기 비율\n",
    "plt.plot([1,2,3], [1,2,3], 'b^') # plot: 선 그리기, ''에 선 색상을 넣을 수 있음. x리스트, y리스트 색에 ^를 붙이는 것으로 선 대신 점으로 변경\n",
    "plt.text(1,1,'캡틴마블') # 위치에 글자 표시\n",
    "plt.text(2,2,'라스트미션')\n",
    "plt.text(3,3,'돈')\n",
    "plt.axis([0,6,0,5]) # 가로 세로의 범위 분리 (가로시작, 가로끝, 세로시작, 세로끝)\n",
    "plt.show()"
   ]
  },
  {
   "cell_type": "code",
   "execution_count": 20,
   "metadata": {},
   "outputs": [],
   "source": [
    "# 데이터 생성\n",
    "ratings = {\n",
    "    'user1': {\n",
    "        '돈': 2.5,\n",
    "        '캡틴마블': 3.5,\n",
    "        '보헤미안 랩소디': 3.0,\n",
    "        '극한직업': 3.5,\n",
    "        '이스케이프 룸': 2.5,\n",
    "        '증인': 3.0,\n",
    "    },\n",
    "    'user2': {\n",
    "        '돈': 1.0,\n",
    "        '캡틴마블': 4.5,\n",
    "        '보헤미안 랩소디': 0.5,\n",
    "        '극한직업': 1.5,\n",
    "        '이스케이프 룸': 4.5,\n",
    "        '증인': 5.0,\n",
    "    },\n",
    "    'user3': {\n",
    "        '돈': 3.0,\n",
    "        '캡틴마블': 3.5,\n",
    "        '보헤미안 랩소디': 1.5,\n",
    "        '극한직업': 5.0,\n",
    "        '증인': 3.0,\n",
    "        '이스케이프 룸': 3.5,\n",
    "    },\n",
    "    'user4': {\n",
    "        '돈': 2.5,\n",
    "        '캡틴마블': 3.0,\n",
    "        '극한직업': 3.5,\n",
    "        '증인': 4.0,\n",
    "    },\n",
    "    'user5': {\n",
    "        '캡틴마블': 3.5,\n",
    "        '보헤미안 랩소디': 3.0,\n",
    "        '증인': 4.5,\n",
    "        '극한직업': 4.0,\n",
    "        '이스케이프 룸': 2.5,\n",
    "    },\n",
    "    'user6': {\n",
    "        '돈': 3.0,\n",
    "        '캡틴마블': 4.0,\n",
    "        '보헤미안 랩소디': 2.0,\n",
    "        '극한직업': 3.0,\n",
    "        '증인': 3.5,\n",
    "        '이스케이프 룸': 2.0,\n",
    "    },\n",
    "    'user7': {\n",
    "        '돈': 3.0,\n",
    "        '캡틴마블': 4.0,\n",
    "        '증인': 3.0,\n",
    "        '극한직업': 5.0,\n",
    "        '이스케이프 룸': 3.5,\n",
    "    },\n",
    "    'user8': {\n",
    "        '캡틴마블': 4.5, \n",
    "        '이스케이프 룸': 1.0,\n",
    "        '극한직업': 4.0,\n",
    "    },\n",
    "    'user9': {\n",
    "        '돈': 3.7,\n",
    "        '캡틴마블': 4.0, \n",
    "        '이스케이프 룸': 3.0,\n",
    "        '극한직업': 4.9,\n",
    "        '보헤미안 랩소디': 4.1,\n",
    "    }\n",
    "}"
   ]
  },
  {
   "cell_type": "code",
   "execution_count": 21,
   "metadata": {},
   "outputs": [],
   "source": [
    "def draw_chart(data, name1, name2): # 데이터에서 유저 번호 2개를 고르고 그 2개에 대한 그래프 생성\n",
    "    plt.figure(figsize=(8,5))\n",
    "    x_ratings = []\n",
    "    y_ratings = []\n",
    "    for i in ratings[name1]: # i = 키 값\n",
    "        if i in data[name2]:\n",
    "            x_ratings.append(ratings[name1][i])\n",
    "            y_ratings.append(ratings[name2][i])\n",
    "            plt.text(ratings[name1][i], ratings[name2][i], i)\n",
    "    plt.plot(x_ratings, y_ratings, 'g^')\n",
    "    plt.axis([0,6,0,6])\n",
    "    plt.xlabel(name1)\n",
    "    plt.ylabel(name2)\n",
    "    plt.show()"
   ]
  },
  {
   "cell_type": "code",
   "execution_count": 22,
   "metadata": {},
   "outputs": [],
   "source": [
    "# 피어슨 상관관계\n",
    "def pearson_correlation_coefficient(data, name1, name2): # 사용자의 유사도 정보 값 추출 (영화에 대한 평가 점수의 유사도)\n",
    "    sum_x = 0 # x(name1)의 합\n",
    "    sum_y = 0 # y(name2)의 합\n",
    "    sum_pow_x = 0 # x 제곱의 합\n",
    "    sum_pow_y = 0 # y 제곱의 합\n",
    "    sum_xy = 0 # x * y 의 합\n",
    "    count = 0 # 영화의 수\n",
    "    \n",
    "    for movie in data[name1]: # movie = key\n",
    "        if movie in data[name2]: # 같은 영화를 평가\n",
    "            sum_x += data[name1][movie]\n",
    "            sum_y += data[name2][movie]\n",
    "            sum_pow_x += pow(data[name1][movie], 2)\n",
    "            sum_pow_y += pow(data[name2][movie], 2)\n",
    "            sum_xy += data[name1][movie] * data[name2][movie]\n",
    "            count += 1\n",
    "            \n",
    "    return (sum_xy - ((sum_x * sum_y) / count)) \\\n",
    "            / sqrt((sum_pow_x - (pow(sum_x, 2) / count)) \\\n",
    "            * (sum_pow_y - (pow(sum_y, 2) / count)))"
   ]
  },
  {
   "cell_type": "code",
   "execution_count": 13,
   "metadata": {
    "scrolled": false
   },
   "outputs": [
    {
     "data": {
      "image/png": "[encoded data removed]",
      "text/plain": [
       "<Figure size 576x360 with 1 Axes>"
      ]
     },
     "metadata": {
      "needs_background": "light"
     },
     "output_type": "display_data"
    },
    {
     "data": {
      "image/png": "[encoded data removed]",
      "text/plain": [
       "<Figure size 576x360 with 1 Axes>"
      ]
     },
     "metadata": {
      "needs_background": "light"
     },
     "output_type": "display_data"
    }
   ],
   "source": [
    "draw_chart(ratings, 'user2', 'user6')\n",
    "draw_chart(ratings, 'user7', 'user1')"
   ]
  },
  {
   "cell_type": "code",
   "execution_count": 6,
   "metadata": {},
   "outputs": [
    {
     "name": "stdout",
     "output_type": "stream",
     "text": [
      "0.39605901719066977\n",
      "0.8934051474415647\n"
     ]
    }
   ],
   "source": [
    "print(pearson_correlation_coefficient(ratings, 'user1', 'user3'))\n",
    "print(pearson_correlation_coefficient(ratings, 'user5', 'user8'))"
   ]
  },
  {
   "cell_type": "code",
   "execution_count": 25,
   "metadata": {},
   "outputs": [
    {
     "name": "stdout",
     "output_type": "stream",
     "text": [
      "(0.3960590171906697, 0.4369749265426754)\n",
      "(0.8934051474415642, 0.2966188313316005)\n"
     ]
    }
   ],
   "source": [
    "user1 = [2.5, 3.5, 3.0, 3.5, 2.5, 3.0]\n",
    "user3 = [3.0, 3.5, 1.5, 5.0, 3.5, 3.0]\n",
    "user5 = [3.5, 2.5, 4.0]\n",
    "user8 = [4.5, 1.0, 4.0]\n",
    "\n",
    "# 함수를 사용하는 대신 점수가 어느 영화에 대한 것인지 나와 있지 않기 때문에 영화의 순서를 맞춰줘야 한다.\n",
    "import scipy.stats as stats # pearson 함수를 사용\n",
    "\n",
    "corr1 = stats.pearsonr(user1, user3)\n",
    "corr2 = stats.pearsonr(user5, user8)\n",
    "print(corr1)\n",
    "print(corr2)"
   ]
  },
  {
   "cell_type": "code",
   "execution_count": 1,
   "metadata": {},
   "outputs": [
    {
     "data": {
      "text/plain": [
       "'user1 = [2.5, 3.5, 3.0, 3.5, 2.5, 3.0]\\nuser2 = [1.0, 4.5, 0.5, 1.5, 4.5, 5.0]\\nuser3 = [3.0, 3.5, 1.5, 5.0, 3.5, 3.0]\\nuser4 = [2.5, 3.0, 3.5, 4.0]\\nuser5 = [3.5, 2.5, 4.0, 3.0, 4.5]\\nuser6 = [3.0, 4.0, 2.0, 3.0, 3.5, 2.0]\\nuser7 = [3.0, 4.0, 3.0, 5.0, 3.5]\\nuser8 = [4.5, 1.0, 4.0]\\nuser9 = [3.7, 4.0, 3.0, 4.9, 4.1]'"
      ]
     },
     "execution_count": 1,
     "metadata": {},
     "output_type": "execute_result"
    }
   ],
   "source": [
    "# value 값만\n",
    "# 돈, 캡틴마블, 보헤미안 랩소디, 극한직업, 이스케이프룸, 증인\n",
    "\n",
    "# 이거 순서대로 변경 안한거.. 순서 맞춰줘야함\n",
    "'''user1 = [2.5, 3.5, 3.0, 3.5, 2.5, 3.0]\n",
    "user2 = [1.0, 4.5, 0.5, 1.5, 4.5, 5.0]\n",
    "user3 = [3.0, 3.5, 1.5, 5.0, 3.5, 3.0]\n",
    "user4 = [2.5, 3.0, 3.5, 4.0]\n",
    "user5 = [3.5, 2.5, 4.0, 3.0, 4.5]\n",
    "user6 = [3.0, 4.0, 2.0, 3.0, 3.5, 2.0]\n",
    "user7 = [3.0, 4.0, 3.0, 5.0, 3.5]\n",
    "user8 = [4.5, 1.0, 4.0]\n",
    "user9 = [3.7, 4.0, 3.0, 4.9, 4.1]'''"
   ]
  },
  {
   "cell_type": "code",
   "execution_count": 26,
   "metadata": {},
   "outputs": [],
   "source": [
    "# 나와 가장 비슷한 유저가 누구인가 (name)\n",
    "# 자신과 평점이 비슷한 \n",
    "def nearest_user(data, name, index=3): # index: 몇 개까지 반환시키는지\n",
    "    result = []\n",
    "    # 자신(name)과 가장 가까운 사람의 데이터 출력\n",
    "    for u in data:\n",
    "        if u != name:\n",
    "            result.append((pearson_correlation_coefficient(data, name, u), u))\n",
    "    result.sort() # 정렬\n",
    "    result.reverse() # 역순\n",
    "    return result[:index]"
   ]
  },
  {
   "cell_type": "code",
   "execution_count": 17,
   "metadata": {
    "scrolled": true
   },
   "outputs": [
    {
     "name": "stdout",
     "output_type": "stream",
     "text": [
      "0.39605901719066977\n",
      "0.8934051474415647\n",
      "--------------------\n",
      "[(0.9912407071619299, 'user1'), (0.9244734516419049, 'user6'), (0.8934051474415647, 'user5'), (0.8105674873765092, 'user9'), (0.66284898035987, 'user7'), (0.38124642583151164, 'user3'), (-0.38124642583151164, 'user2'), (-1.0, 'user4')]\n",
      "--------------------\n"
     ]
    }
   ],
   "source": [
    "print(pearson_correlation_coefficient(ratings, 'user1', 'user3'))\n",
    "print(pearson_correlation_coefficient(ratings, 'user5', 'user8'))\n",
    "print('-' * 20)\n",
    "print(nearest_user(ratings, 'user8', len(ratings)))\n",
    "print('-' * 20)"
   ]
  },
  {
   "cell_type": "code",
   "execution_count": 27,
   "metadata": {},
   "outputs": [
    {
     "data": {
      "text/plain": [
       "[(0.9607689228305331, 'user4'),\n",
       " (0.9281909617845113, 'user5'),\n",
       " (0.8180002591461302, 'user7'),\n",
       " (0.8105674873765092, 'user8'),\n",
       " (0.7997092494906686, 'user1')]"
      ]
     },
     "execution_count": 27,
     "metadata": {},
     "output_type": "execute_result"
    }
   ],
   "source": [
    "nearest_user(ratings, 'user9', 5) # 9와 가장 가까운 데이터 5개\n",
    "# nearest_user(ratings, 'user9', len(ratings)) # 9와 가장 가까운 데이터 본인 제외 수"
   ]
  },
  {
   "cell_type": "code",
   "execution_count": 12,
   "metadata": {},
   "outputs": [],
   "source": [
    "def getRecommendation(data, user):\n",
    "    rcmmdList = []\n",
    "    result = nearest_user(data, user, len(data))\n",
    "    \n",
    "    score = 0\n",
    "    score_dic = {} # 유사도 총합을 위한 dict\n",
    "    similarity_dic = {} # 평점 총합을 위한 dict\n",
    "    \n",
    "    for similarity, name in result:\n",
    "        if similarity < 0:\n",
    "            continue\n",
    "            \n",
    "        for movie in data[name]:\n",
    "            if movie not in data[user]: # name이 평가를 내리지 않는 영화(안본 영화)\n",
    "                score += similarity * data[name][movie] # 영화평점 * 유사도\n",
    "                score_dic.setdefault(movie,0) # 기본값 설정\n",
    "                score_dic[movie] += score # 합계 구하기\n",
    "                \n",
    "                # 조건에 맞는 사람의 유사도의 누적합 구하기\n",
    "                similarity_dic.setdefault(movie, 0)\n",
    "                similarity_dic[movie] += similarity\n",
    "                \n",
    "            score = 0 # 영화가 바뀌었으니 초기화\n",
    "            \n",
    "    for key in score_dic:\n",
    "        # 평점 총합 / 유사도 총합\n",
    "        score_dic[key] = score_dic[key] / similarity_dic[key]\n",
    "        rcmmdList.append((score_dic[key], key))\n",
    "        \n",
    "    rcmmdList.sort()\n",
    "    rcmmdList.reverse() \n",
    "    return rcmmdList"
   ]
  },
  {
   "cell_type": "code",
   "execution_count": 22,
   "metadata": {},
   "outputs": [],
   "source": [
    "rcmmdList = getRecommendation(ratings, 'user8')\n",
    "# 영화를 추천해주는 것인데 user1은 모든 영화를 봤으므로 추천 불가능!"
   ]
  },
  {
   "cell_type": "code",
   "execution_count": 23,
   "metadata": {},
   "outputs": [
    {
     "name": "stdout",
     "output_type": "stream",
     "text": [
      "[(3.467750847406967, '증인'), (3.019037058253216, '돈'), (2.848855549166695, '보헤미안 랩소디')]\n",
      "(3.467750847406967, '증인')\n"
     ]
    }
   ],
   "source": [
    "print(rcmmdList)\n",
    "print(rcmmdList[0])"
   ]
  },
  {
   "cell_type": "code",
   "execution_count": 26,
   "metadata": {},
   "outputs": [
    {
     "name": "stdout",
     "output_type": "stream",
     "text": [
      "Collecting fbprophet\n",
      "  Using cached fbprophet-0.7.tar.gz (64 kB)\n",
      "Requirement already satisfied: Cython>=0.22 in c:\\users\\shanolulu\\anaconda3\\lib\\site-packages (from fbprophet) (0.29.21)\n",
      "Requirement already satisfied: cmdstanpy==0.9.5 in c:\\users\\shanolulu\\anaconda3\\lib\\site-packages (from fbprophet) (0.9.5)\n",
      "Requirement already satisfied: pystan>=2.14 in c:\\users\\shanolulu\\anaconda3\\lib\\site-packages (from fbprophet) (2.19.1.1)\n",
      "Requirement already satisfied: numpy>=1.10.0 in c:\\users\\shanolulu\\anaconda3\\lib\\site-packages (from fbprophet) (1.18.5)\n",
      "Requirement already satisfied: pandas>=1.0.4 in c:\\users\\shanolulu\\anaconda3\\lib\\site-packages (from fbprophet) (1.0.5)\n",
      "Requirement already satisfied: matplotlib>=2.0.0 in c:\\users\\shanolulu\\anaconda3\\lib\\site-packages (from fbprophet) (3.2.2)\n",
      "Requirement already satisfied: LunarCalendar>=0.0.9 in c:\\users\\shanolulu\\anaconda3\\lib\\site-packages (from fbprophet) (0.0.9)\n",
      "Requirement already satisfied: convertdate>=2.1.2 in c:\\users\\shanolulu\\anaconda3\\lib\\site-packages (from fbprophet) (2.2.1)\n",
      "Requirement already satisfied: holidays>=0.9.5 in c:\\users\\shanolulu\\anaconda3\\lib\\site-packages (from fbprophet) (0.10.3)\n",
      "Requirement already satisfied: setuptools-git>=1.2 in c:\\users\\shanolulu\\anaconda3\\lib\\site-packages (from fbprophet) (1.2)\n",
      "Requirement already satisfied: python-dateutil>=2.8.0 in c:\\users\\shanolulu\\anaconda3\\lib\\site-packages (from fbprophet) (2.8.1)\n",
      "Requirement already satisfied: tqdm>=4.36.1 in c:\\users\\shanolulu\\anaconda3\\lib\\site-packages (from fbprophet) (4.47.0)\n",
      "Requirement already satisfied: pytz>=2017.2 in c:\\users\\shanolulu\\anaconda3\\lib\\site-packages (from pandas>=1.0.4->fbprophet) (2020.1)\n",
      "Requirement already satisfied: pyparsing!=2.0.4,!=2.1.2,!=2.1.6,>=2.0.1 in c:\\users\\shanolulu\\anaconda3\\lib\\site-packages (from matplotlib>=2.0.0->fbprophet) (2.4.7)\n",
      "Requirement already satisfied: cycler>=0.10 in c:\\users\\shanolulu\\anaconda3\\lib\\site-packages (from matplotlib>=2.0.0->fbprophet) (0.10.0)\n",
      "Requirement already satisfied: kiwisolver>=1.0.1 in c:\\users\\shanolulu\\anaconda3\\lib\\site-packages (from matplotlib>=2.0.0->fbprophet) (1.2.0)\n",
      "Requirement already satisfied: ephem>=3.7.5.3 in c:\\users\\shanolulu\\anaconda3\\lib\\site-packages (from LunarCalendar>=0.0.9->fbprophet) (3.7.7.1)\n",
      "Requirement already satisfied: pymeeus<=1,>=0.3.6 in c:\\users\\shanolulu\\anaconda3\\lib\\site-packages (from convertdate>=2.1.2->fbprophet) (0.3.7)\n",
      "Requirement already satisfied: korean-lunar-calendar in c:\\users\\shanolulu\\anaconda3\\lib\\site-packages (from holidays>=0.9.5->fbprophet) (0.2.1)\n",
      "Requirement already satisfied: six in c:\\users\\shanolulu\\anaconda3\\lib\\site-packages (from holidays>=0.9.5->fbprophet) (1.15.0)\n",
      "Building wheels for collected packages: fbprophet\n",
      "  Building wheel for fbprophet (setup.py): started\n",
      "  Building wheel for fbprophet (setup.py): still running...\n",
      "  Building wheel for fbprophet (setup.py): finished with status 'done'\n",
      "  Created wheel for fbprophet: filename=fbprophet-0.7-py3-none-any.whl size=523856 sha256=86e2b333de74efd3b64c80a17504574d5efe1654c5ad2c6b062b8e1341cfa691\n",
      "  Stored in directory: c:\\users\\shanolulu\\appdata\\local\\pip\\cache\\wheels\\bc\\8f\\fb\\e5a8c432200c02bb37a2166188aae630030146b14908155c13\n",
      "Successfully built fbprophet\n",
      "Installing collected packages: fbprophet\n",
      "Successfully installed fbprophet-0.7\n"
     ]
    }
   ],
   "source": [
    "!pip install fbprophet"
   ]
  }
 ],
 "metadata": {
  "kernelspec": {
   "display_name": "Python 3",
   "language": "python",
   "name": "python3"
  },
  "language_info": {
   "codemirror_mode": {
    "name": "ipython",
    "version": 3
   },
   "file_extension": ".py",
   "mimetype": "text/x-python",
   "name": "python",
   "nbconvert_exporter": "python",
   "pygments_lexer": "ipython3",
   "version": "3.8.3"
  }
 },
 "nbformat": 4,
 "nbformat_minor": 4
}
