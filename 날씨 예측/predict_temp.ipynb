{
 "cells": [
  {
   "cell_type": "code",
   "execution_count": 1,
   "metadata": {
    "colab": {
     "base_uri": "https://localhost:8080/",
     "height": 34
    },
    "colab_type": "code",
    "executionInfo": {
     "elapsed": 1121,
     "status": "ok",
     "timestamp": 1598489141160,
     "user": {
      "displayName": "강주현",
      "photoUrl": "https://lh3.googleusercontent.com/a-/AOh14GhI6eR4X0pU-wyWD_lrneGGkf4JwhmGDwx7Dopr=s64",
      "userId": "12298000088270855699"
     },
     "user_tz": -540
    },
    "id": "dI3BzN2B_fMV",
    "outputId": "b52bd132-2fa8-4535-b5d0-585cf8a3758e"
   },
   "outputs": [
    {
     "name": "stdout",
     "output_type": "stream",
     "text": [
      "Drive already mounted at /content/drive; to attempt to forcibly remount, call drive.mount(\"/content/drive\", force_remount=True).\n"
     ]
    }
   ],
   "source": [
    "from google.colab import drive\n",
    "drive.mount('/content/drive')"
   ]
  },
  {
   "cell_type": "code",
   "execution_count": 2,
   "metadata": {
    "colab": {},
    "colab_type": "code",
    "executionInfo": {
     "elapsed": 1617,
     "status": "ok",
     "timestamp": 1598489141669,
     "user": {
      "displayName": "강주현",
      "photoUrl": "https://lh3.googleusercontent.com/a-/AOh14GhI6eR4X0pU-wyWD_lrneGGkf4JwhmGDwx7Dopr=s64",
      "userId": "12298000088270855699"
     },
     "user_tz": -540
    },
    "id": "9nVd1gJT_n8E"
   },
   "outputs": [],
   "source": [
    "from sklearn.linear_model import LinearRegression\n",
    "import pandas as pd\n",
    "import numpy as np\n",
    "import matplotlib.pyplot as plt"
   ]
  },
  {
   "cell_type": "code",
   "execution_count": 17,
   "metadata": {
    "colab": {
     "base_uri": "https://localhost:8080/",
     "height": 402
    },
    "colab_type": "code",
    "executionInfo": {
     "elapsed": 923,
     "status": "ok",
     "timestamp": 1598489249397,
     "user": {
      "displayName": "강주현",
      "photoUrl": "https://lh3.googleusercontent.com/a-/AOh14GhI6eR4X0pU-wyWD_lrneGGkf4JwhmGDwx7Dopr=s64",
      "userId": "12298000088270855699"
     },
     "user_tz": -540
    },
    "id": "zDTnN5-I_-eh",
    "outputId": "805b90b9-883e-4672-96ac-0fb7252eedfc"
   },
   "outputs": [
    {
     "data": {
      "text/html": [
       "<div>\n",
       "<style scoped>\n",
       "    .dataframe tbody tr th:only-of-type {\n",
       "        vertical-align: middle;\n",
       "    }\n",
       "\n",
       "    .dataframe tbody tr th {\n",
       "        vertical-align: top;\n",
       "    }\n",
       "\n",
       "    .dataframe thead th {\n",
       "        text-align: right;\n",
       "    }\n",
       "</style>\n",
       "<table border=\"1\" class=\"dataframe\">\n",
       "  <thead>\n",
       "    <tr style=\"text-align: right;\">\n",
       "      <th></th>\n",
       "      <th>날짜</th>\n",
       "      <th>지점</th>\n",
       "      <th>평균기온</th>\n",
       "      <th>최저기온</th>\n",
       "      <th>최고기온</th>\n",
       "    </tr>\n",
       "  </thead>\n",
       "  <tbody>\n",
       "    <tr>\n",
       "      <th>0</th>\n",
       "      <td>2006-01-01</td>\n",
       "      <td>108</td>\n",
       "      <td>1.4</td>\n",
       "      <td>0.6</td>\n",
       "      <td>1.8</td>\n",
       "    </tr>\n",
       "    <tr>\n",
       "      <th>1</th>\n",
       "      <td>2006-01-02</td>\n",
       "      <td>108</td>\n",
       "      <td>0.2</td>\n",
       "      <td>-2.4</td>\n",
       "      <td>3.9</td>\n",
       "    </tr>\n",
       "    <tr>\n",
       "      <th>2</th>\n",
       "      <td>2006-01-03</td>\n",
       "      <td>108</td>\n",
       "      <td>-2.4</td>\n",
       "      <td>-4.5</td>\n",
       "      <td>1.2</td>\n",
       "    </tr>\n",
       "    <tr>\n",
       "      <th>3</th>\n",
       "      <td>2006-01-04</td>\n",
       "      <td>108</td>\n",
       "      <td>-6.2</td>\n",
       "      <td>-8.3</td>\n",
       "      <td>-4.4</td>\n",
       "    </tr>\n",
       "    <tr>\n",
       "      <th>4</th>\n",
       "      <td>2006-01-05</td>\n",
       "      <td>108</td>\n",
       "      <td>-7.1</td>\n",
       "      <td>-10.0</td>\n",
       "      <td>-2.5</td>\n",
       "    </tr>\n",
       "    <tr>\n",
       "      <th>...</th>\n",
       "      <td>...</td>\n",
       "      <td>...</td>\n",
       "      <td>...</td>\n",
       "      <td>...</td>\n",
       "      <td>...</td>\n",
       "    </tr>\n",
       "    <tr>\n",
       "      <th>5346</th>\n",
       "      <td>2020-08-21</td>\n",
       "      <td>108</td>\n",
       "      <td>26.6</td>\n",
       "      <td>25.2</td>\n",
       "      <td>29.2</td>\n",
       "    </tr>\n",
       "    <tr>\n",
       "      <th>5347</th>\n",
       "      <td>2020-08-22</td>\n",
       "      <td>108</td>\n",
       "      <td>24.3</td>\n",
       "      <td>21.7</td>\n",
       "      <td>27.6</td>\n",
       "    </tr>\n",
       "    <tr>\n",
       "      <th>5348</th>\n",
       "      <td>2020-08-23</td>\n",
       "      <td>108</td>\n",
       "      <td>25.3</td>\n",
       "      <td>21.5</td>\n",
       "      <td>29.9</td>\n",
       "    </tr>\n",
       "    <tr>\n",
       "      <th>5349</th>\n",
       "      <td>2020-08-24</td>\n",
       "      <td>108</td>\n",
       "      <td>27.8</td>\n",
       "      <td>23.7</td>\n",
       "      <td>32.0</td>\n",
       "    </tr>\n",
       "    <tr>\n",
       "      <th>5350</th>\n",
       "      <td>2020-08-25</td>\n",
       "      <td>108</td>\n",
       "      <td>29.9</td>\n",
       "      <td>26.0</td>\n",
       "      <td>34.5</td>\n",
       "    </tr>\n",
       "  </tbody>\n",
       "</table>\n",
       "<p>5351 rows × 5 columns</p>\n",
       "</div>"
      ],
      "text/plain": [
       "              날짜   지점  평균기온  최저기온  최고기온\n",
       "0     2006-01-01  108   1.4   0.6   1.8\n",
       "1     2006-01-02  108   0.2  -2.4   3.9\n",
       "2     2006-01-03  108  -2.4  -4.5   1.2\n",
       "3     2006-01-04  108  -6.2  -8.3  -4.4\n",
       "4     2006-01-05  108  -7.1 -10.0  -2.5\n",
       "...          ...  ...   ...   ...   ...\n",
       "5346  2020-08-21  108  26.6  25.2  29.2\n",
       "5347  2020-08-22  108  24.3  21.7  27.6\n",
       "5348  2020-08-23  108  25.3  21.5  29.9\n",
       "5349  2020-08-24  108  27.8  23.7  32.0\n",
       "5350  2020-08-25  108  29.9  26.0  34.5\n",
       "\n",
       "[5351 rows x 5 columns]"
      ]
     },
     "execution_count": 17,
     "metadata": {
      "tags": []
     },
     "output_type": "execute_result"
    }
   ],
   "source": [
    "df = pd.read_csv('temp_data.csv', encoding='cp949')\n",
    "df"
   ]
  },
  {
   "cell_type": "code",
   "execution_count": 18,
   "metadata": {
    "colab": {
     "base_uri": "https://localhost:8080/",
     "height": 402
    },
    "colab_type": "code",
    "executionInfo": {
     "elapsed": 592,
     "status": "ok",
     "timestamp": 1598489250494,
     "user": {
      "displayName": "강주현",
      "photoUrl": "https://lh3.googleusercontent.com/a-/AOh14GhI6eR4X0pU-wyWD_lrneGGkf4JwhmGDwx7Dopr=s64",
      "userId": "12298000088270855699"
     },
     "user_tz": -540
    },
    "id": "8KeXeFeIA6tW",
    "outputId": "2bf732b6-749c-4bce-c109-34f23c9e6136"
   },
   "outputs": [
    {
     "data": {
      "text/html": [
       "<div>\n",
       "<style scoped>\n",
       "    .dataframe tbody tr th:only-of-type {\n",
       "        vertical-align: middle;\n",
       "    }\n",
       "\n",
       "    .dataframe tbody tr th {\n",
       "        vertical-align: top;\n",
       "    }\n",
       "\n",
       "    .dataframe thead th {\n",
       "        text-align: right;\n",
       "    }\n",
       "</style>\n",
       "<table border=\"1\" class=\"dataframe\">\n",
       "  <thead>\n",
       "    <tr style=\"text-align: right;\">\n",
       "      <th></th>\n",
       "      <th>날짜</th>\n",
       "      <th>지점</th>\n",
       "      <th>평균기온</th>\n",
       "      <th>최저기온</th>\n",
       "      <th>최고기온</th>\n",
       "    </tr>\n",
       "  </thead>\n",
       "  <tbody>\n",
       "    <tr>\n",
       "      <th>0</th>\n",
       "      <td>2006-01-01</td>\n",
       "      <td>108</td>\n",
       "      <td>1.4</td>\n",
       "      <td>0.6</td>\n",
       "      <td>1.8</td>\n",
       "    </tr>\n",
       "    <tr>\n",
       "      <th>1</th>\n",
       "      <td>2006-01-02</td>\n",
       "      <td>108</td>\n",
       "      <td>0.2</td>\n",
       "      <td>-2.4</td>\n",
       "      <td>3.9</td>\n",
       "    </tr>\n",
       "    <tr>\n",
       "      <th>2</th>\n",
       "      <td>2006-01-03</td>\n",
       "      <td>108</td>\n",
       "      <td>-2.4</td>\n",
       "      <td>-4.5</td>\n",
       "      <td>1.2</td>\n",
       "    </tr>\n",
       "    <tr>\n",
       "      <th>3</th>\n",
       "      <td>2006-01-04</td>\n",
       "      <td>108</td>\n",
       "      <td>-6.2</td>\n",
       "      <td>-8.3</td>\n",
       "      <td>-4.4</td>\n",
       "    </tr>\n",
       "    <tr>\n",
       "      <th>4</th>\n",
       "      <td>2006-01-05</td>\n",
       "      <td>108</td>\n",
       "      <td>-7.1</td>\n",
       "      <td>-10.0</td>\n",
       "      <td>-2.5</td>\n",
       "    </tr>\n",
       "    <tr>\n",
       "      <th>...</th>\n",
       "      <td>...</td>\n",
       "      <td>...</td>\n",
       "      <td>...</td>\n",
       "      <td>...</td>\n",
       "      <td>...</td>\n",
       "    </tr>\n",
       "    <tr>\n",
       "      <th>5346</th>\n",
       "      <td>2020-08-21</td>\n",
       "      <td>108</td>\n",
       "      <td>26.6</td>\n",
       "      <td>25.2</td>\n",
       "      <td>29.2</td>\n",
       "    </tr>\n",
       "    <tr>\n",
       "      <th>5347</th>\n",
       "      <td>2020-08-22</td>\n",
       "      <td>108</td>\n",
       "      <td>24.3</td>\n",
       "      <td>21.7</td>\n",
       "      <td>27.6</td>\n",
       "    </tr>\n",
       "    <tr>\n",
       "      <th>5348</th>\n",
       "      <td>2020-08-23</td>\n",
       "      <td>108</td>\n",
       "      <td>25.3</td>\n",
       "      <td>21.5</td>\n",
       "      <td>29.9</td>\n",
       "    </tr>\n",
       "    <tr>\n",
       "      <th>5349</th>\n",
       "      <td>2020-08-24</td>\n",
       "      <td>108</td>\n",
       "      <td>27.8</td>\n",
       "      <td>23.7</td>\n",
       "      <td>32.0</td>\n",
       "    </tr>\n",
       "    <tr>\n",
       "      <th>5350</th>\n",
       "      <td>2020-08-25</td>\n",
       "      <td>108</td>\n",
       "      <td>29.9</td>\n",
       "      <td>26.0</td>\n",
       "      <td>34.5</td>\n",
       "    </tr>\n",
       "  </tbody>\n",
       "</table>\n",
       "<p>5351 rows × 5 columns</p>\n",
       "</div>"
      ],
      "text/plain": [
       "              날짜   지점  평균기온  최저기온  최고기온\n",
       "0     2006-01-01  108   1.4   0.6   1.8\n",
       "1     2006-01-02  108   0.2  -2.4   3.9\n",
       "2     2006-01-03  108  -2.4  -4.5   1.2\n",
       "3     2006-01-04  108  -6.2  -8.3  -4.4\n",
       "4     2006-01-05  108  -7.1 -10.0  -2.5\n",
       "...          ...  ...   ...   ...   ...\n",
       "5346  2020-08-21  108  26.6  25.2  29.2\n",
       "5347  2020-08-22  108  24.3  21.7  27.6\n",
       "5348  2020-08-23  108  25.3  21.5  29.9\n",
       "5349  2020-08-24  108  27.8  23.7  32.0\n",
       "5350  2020-08-25  108  29.9  26.0  34.5\n",
       "\n",
       "[5351 rows x 5 columns]"
      ]
     },
     "execution_count": 18,
     "metadata": {
      "tags": []
     },
     "output_type": "execute_result"
    }
   ],
   "source": [
    "df = df.rename({'평균기온(℃)':'평균기온'}, axis=1)\n",
    "df = df.rename({'최저기온(℃)':'최저기온'}, axis=1)\n",
    "df = df.rename({'최고기온(℃)':'최고기온'}, axis=1)\n",
    "df"
   ]
  },
  {
   "cell_type": "code",
   "execution_count": 19,
   "metadata": {
    "colab": {
     "base_uri": "https://localhost:8080/",
     "height": 402
    },
    "colab_type": "code",
    "executionInfo": {
     "elapsed": 1817,
     "status": "ok",
     "timestamp": 1598489252879,
     "user": {
      "displayName": "강주현",
      "photoUrl": "https://lh3.googleusercontent.com/a-/AOh14GhI6eR4X0pU-wyWD_lrneGGkf4JwhmGDwx7Dopr=s64",
      "userId": "12298000088270855699"
     },
     "user_tz": -540
    },
    "id": "kILxRxyOB5uU",
    "outputId": "f381970f-842a-458d-dd5b-e64649dcb162"
   },
   "outputs": [
    {
     "data": {
      "text/html": [
       "<div>\n",
       "<style scoped>\n",
       "    .dataframe tbody tr th:only-of-type {\n",
       "        vertical-align: middle;\n",
       "    }\n",
       "\n",
       "    .dataframe tbody tr th {\n",
       "        vertical-align: top;\n",
       "    }\n",
       "\n",
       "    .dataframe thead th {\n",
       "        text-align: right;\n",
       "    }\n",
       "</style>\n",
       "<table border=\"1\" class=\"dataframe\">\n",
       "  <thead>\n",
       "    <tr style=\"text-align: right;\">\n",
       "      <th></th>\n",
       "      <th>날짜</th>\n",
       "      <th>지점</th>\n",
       "      <th>평균기온</th>\n",
       "      <th>최저기온</th>\n",
       "      <th>최고기온</th>\n",
       "      <th>년</th>\n",
       "      <th>월</th>\n",
       "    </tr>\n",
       "  </thead>\n",
       "  <tbody>\n",
       "    <tr>\n",
       "      <th>0</th>\n",
       "      <td>2006-01-01</td>\n",
       "      <td>108</td>\n",
       "      <td>1.4</td>\n",
       "      <td>0.6</td>\n",
       "      <td>1.8</td>\n",
       "      <td>2006</td>\n",
       "      <td>1</td>\n",
       "    </tr>\n",
       "    <tr>\n",
       "      <th>1</th>\n",
       "      <td>2006-01-02</td>\n",
       "      <td>108</td>\n",
       "      <td>0.2</td>\n",
       "      <td>-2.4</td>\n",
       "      <td>3.9</td>\n",
       "      <td>2006</td>\n",
       "      <td>1</td>\n",
       "    </tr>\n",
       "    <tr>\n",
       "      <th>2</th>\n",
       "      <td>2006-01-03</td>\n",
       "      <td>108</td>\n",
       "      <td>-2.4</td>\n",
       "      <td>-4.5</td>\n",
       "      <td>1.2</td>\n",
       "      <td>2006</td>\n",
       "      <td>1</td>\n",
       "    </tr>\n",
       "    <tr>\n",
       "      <th>3</th>\n",
       "      <td>2006-01-04</td>\n",
       "      <td>108</td>\n",
       "      <td>-6.2</td>\n",
       "      <td>-8.3</td>\n",
       "      <td>-4.4</td>\n",
       "      <td>2006</td>\n",
       "      <td>1</td>\n",
       "    </tr>\n",
       "    <tr>\n",
       "      <th>4</th>\n",
       "      <td>2006-01-05</td>\n",
       "      <td>108</td>\n",
       "      <td>-7.1</td>\n",
       "      <td>-10.0</td>\n",
       "      <td>-2.5</td>\n",
       "      <td>2006</td>\n",
       "      <td>1</td>\n",
       "    </tr>\n",
       "    <tr>\n",
       "      <th>...</th>\n",
       "      <td>...</td>\n",
       "      <td>...</td>\n",
       "      <td>...</td>\n",
       "      <td>...</td>\n",
       "      <td>...</td>\n",
       "      <td>...</td>\n",
       "      <td>...</td>\n",
       "    </tr>\n",
       "    <tr>\n",
       "      <th>5346</th>\n",
       "      <td>2020-08-21</td>\n",
       "      <td>108</td>\n",
       "      <td>26.6</td>\n",
       "      <td>25.2</td>\n",
       "      <td>29.2</td>\n",
       "      <td>2020</td>\n",
       "      <td>8</td>\n",
       "    </tr>\n",
       "    <tr>\n",
       "      <th>5347</th>\n",
       "      <td>2020-08-22</td>\n",
       "      <td>108</td>\n",
       "      <td>24.3</td>\n",
       "      <td>21.7</td>\n",
       "      <td>27.6</td>\n",
       "      <td>2020</td>\n",
       "      <td>8</td>\n",
       "    </tr>\n",
       "    <tr>\n",
       "      <th>5348</th>\n",
       "      <td>2020-08-23</td>\n",
       "      <td>108</td>\n",
       "      <td>25.3</td>\n",
       "      <td>21.5</td>\n",
       "      <td>29.9</td>\n",
       "      <td>2020</td>\n",
       "      <td>8</td>\n",
       "    </tr>\n",
       "    <tr>\n",
       "      <th>5349</th>\n",
       "      <td>2020-08-24</td>\n",
       "      <td>108</td>\n",
       "      <td>27.8</td>\n",
       "      <td>23.7</td>\n",
       "      <td>32.0</td>\n",
       "      <td>2020</td>\n",
       "      <td>8</td>\n",
       "    </tr>\n",
       "    <tr>\n",
       "      <th>5350</th>\n",
       "      <td>2020-08-25</td>\n",
       "      <td>108</td>\n",
       "      <td>29.9</td>\n",
       "      <td>26.0</td>\n",
       "      <td>34.5</td>\n",
       "      <td>2020</td>\n",
       "      <td>8</td>\n",
       "    </tr>\n",
       "  </tbody>\n",
       "</table>\n",
       "<p>5351 rows × 7 columns</p>\n",
       "</div>"
      ],
      "text/plain": [
       "              날짜   지점  평균기온  최저기온  최고기온     년  월\n",
       "0     2006-01-01  108   1.4   0.6   1.8  2006  1\n",
       "1     2006-01-02  108   0.2  -2.4   3.9  2006  1\n",
       "2     2006-01-03  108  -2.4  -4.5   1.2  2006  1\n",
       "3     2006-01-04  108  -6.2  -8.3  -4.4  2006  1\n",
       "4     2006-01-05  108  -7.1 -10.0  -2.5  2006  1\n",
       "...          ...  ...   ...   ...   ...   ... ..\n",
       "5346  2020-08-21  108  26.6  25.2  29.2  2020  8\n",
       "5347  2020-08-22  108  24.3  21.7  27.6  2020  8\n",
       "5348  2020-08-23  108  25.3  21.5  29.9  2020  8\n",
       "5349  2020-08-24  108  27.8  23.7  32.0  2020  8\n",
       "5350  2020-08-25  108  29.9  26.0  34.5  2020  8\n",
       "\n",
       "[5351 rows x 7 columns]"
      ]
     },
     "execution_count": 19,
     "metadata": {
      "tags": []
     },
     "output_type": "execute_result"
    }
   ],
   "source": [
    "year = []\n",
    "month = []\n",
    "for i in range(len(df)):\n",
    "    year.append(int(df['날짜'][i].split('-')[0]))\n",
    "df['년'] = year\n",
    "for i in range(len(df)):\n",
    "    month.append(int(df['날짜'][i].split('-')[1]))\n",
    "df['월'] = month\n",
    "df"
   ]
  },
  {
   "cell_type": "code",
   "execution_count": 20,
   "metadata": {
    "colab": {
     "base_uri": "https://localhost:8080/",
     "height": 228
    },
    "colab_type": "code",
    "executionInfo": {
     "elapsed": 1168,
     "status": "ok",
     "timestamp": 1598489254666,
     "user": {
      "displayName": "강주현",
      "photoUrl": "https://lh3.googleusercontent.com/a-/AOh14GhI6eR4X0pU-wyWD_lrneGGkf4JwhmGDwx7Dopr=s64",
      "userId": "12298000088270855699"
     },
     "user_tz": -540
    },
    "id": "o9yLjbimFQNB",
    "outputId": "fa306b5a-2337-40de-dd5d-13d6b853595e"
   },
   "outputs": [
    {
     "name": "stdout",
     "output_type": "stream",
     "text": [
      "0       False\n",
      "1       False\n",
      "2       False\n",
      "3       False\n",
      "4       False\n",
      "        ...  \n",
      "5346     True\n",
      "5347     True\n",
      "5348     True\n",
      "5349     True\n",
      "5350     True\n",
      "Name: 년, Length: 5351, dtype: bool\n"
     ]
    }
   ],
   "source": [
    "train_data = (df['년'] <= 2019)\n",
    "test_data = (df['년'] >= 2020)\n",
    "print(test_data)\n",
    "interval = 6"
   ]
  },
  {
   "cell_type": "code",
   "execution_count": 21,
   "metadata": {
    "colab": {},
    "colab_type": "code",
    "executionInfo": {
     "elapsed": 1011,
     "status": "ok",
     "timestamp": 1598489256289,
     "user": {
      "displayName": "강주현",
      "photoUrl": "https://lh3.googleusercontent.com/a-/AOh14GhI6eR4X0pU-wyWD_lrneGGkf4JwhmGDwx7Dopr=s64",
      "userId": "12298000088270855699"
     },
     "user_tz": -540
    },
    "id": "-4-zpmPWFyNm"
   },
   "outputs": [],
   "source": [
    "def make_data(data):\n",
    "    x = [] # 학습 데이터\n",
    "    y = [] # 결과\n",
    "    temps = list(data['평균기온'])\n",
    "\n",
    "    for i in range(len(temps)):\n",
    "        if i < interval:\n",
    "            continue\n",
    "        y.append(temps[i])\n",
    "        xa = []\n",
    "        for p in range(interval):\n",
    "            d = i + p - interval\n",
    "            xa.append(temps[d])\n",
    "        x.append(xa)\n",
    "    return x, y"
   ]
  },
  {
   "cell_type": "code",
   "execution_count": 23,
   "metadata": {
    "colab": {
     "base_uri": "https://localhost:8080/",
     "height": 72
    },
    "colab_type": "code",
    "executionInfo": {
     "elapsed": 889,
     "status": "ok",
     "timestamp": 1598489431446,
     "user": {
      "displayName": "강주현",
      "photoUrl": "https://lh3.googleusercontent.com/a-/AOh14GhI6eR4X0pU-wyWD_lrneGGkf4JwhmGDwx7Dopr=s64",
      "userId": "12298000088270855699"
     },
     "user_tz": -540
    },
    "id": "LOz-69iWGaKo",
    "outputId": "9825b1aa-470a-4223-8073-01f5c6cac33f"
   },
   "outputs": [
    {
     "name": "stdout",
     "output_type": "stream",
     "text": [
      "[[-2.2, 1.0, -0.1, 1.2, 1.3, 3.1], [1.0, -0.1, 1.2, 1.3, 3.1, 6.3], [-0.1, 1.2, 1.3, 3.1, 6.3, 2.4], [1.2, 1.3, 3.1, 6.3, 2.4, -1.2], [1.3, 3.1, 6.3, 2.4, -1.2, -0.6], [3.1, 6.3, 2.4, -1.2, -0.6, -0.1], [6.3, 2.4, -1.2, -0.6, -0.1, -1.0], [2.4, -1.2, -0.6, -0.1, -1.0, -2.9], [-1.2, -0.6, -0.1, -1.0, -2.9, -2.3], [-0.6, -0.1, -1.0, -2.9, -2.3, -2.7], [-0.1, -1.0, -2.9, -2.3, -2.7, -1.7], [-1.0, -2.9, -2.3, -2.7, -1.7, -0.6], [-2.9, -2.3, -2.7, -1.7, -0.6, 0.3], [-2.3, -2.7, -1.7, -0.6, 0.3, 1.9], [-2.7, -1.7, -0.6, 0.3, 1.9, 0.7], [-1.7, -0.6, 0.3, 1.9, 0.7, -0.4], [-0.6, 0.3, 1.9, 0.7, -0.4, 3.0], [0.3, 1.9, 0.7, -0.4, 3.0, 4.6], [1.9, 0.7, -0.4, 3.0, 4.6, 2.8], [0.7, -0.4, 3.0, 4.6, 2.8, 4.3], [-0.4, 3.0, 4.6, 2.8, 4.3, 5.5], [3.0, 4.6, 2.8, 4.3, 5.5, 5.9], [4.6, 2.8, 4.3, 5.5, 5.9, 6.8], [2.8, 4.3, 5.5, 5.9, 6.8, 6.0], [4.3, 5.5, 5.9, 6.8, 6.0, 5.2], [5.5, 5.9, 6.8, 6.0, 5.2, 3.9], [5.9, 6.8, 6.0, 5.2, 3.9, 2.6], [6.8, 6.0, 5.2, 3.9, 2.6, 1.5], [6.0, 5.2, 3.9, 2.6, 1.5, -0.4], [5.2, 3.9, 2.6, 1.5, -0.4, -1.6], [3.9, 2.6, 1.5, -0.4, -1.6, -8.3], [2.6, 1.5, -0.4, -1.6, -8.3, -6.4], [1.5, -0.4, -1.6, -8.3, -6.4, -1.7], [-0.4, -1.6, -8.3, -6.4, -1.7, -0.1], [-1.6, -8.3, -6.4, -1.7, -0.1, -0.5], [-8.3, -6.4, -1.7, -0.1, -0.5, 4.0], [-6.4, -1.7, -0.1, -0.5, 4.0, 6.8], [-1.7, -0.1, -0.5, 4.0, 6.8, 7.4], [-0.1, -0.5, 4.0, 6.8, 7.4, 6.5], [-0.5, 4.0, 6.8, 7.4, 6.5, 8.1], [4.0, 6.8, 7.4, 6.5, 8.1, 9.8], [6.8, 7.4, 6.5, 8.1, 9.8, -1.4], [7.4, 6.5, 8.1, 9.8, -1.4, -5.9], [6.5, 8.1, 9.8, -1.4, -5.9, -4.1], [8.1, 9.8, -1.4, -5.9, -4.1, 1.0], [9.8, -1.4, -5.9, -4.1, 1.0, 4.6], [-1.4, -5.9, -4.1, 1.0, 4.6, 6.7], [-5.9, -4.1, 1.0, 4.6, 6.7, 4.0], [-4.1, 1.0, 4.6, 6.7, 4.0, 2.5], [1.0, 4.6, 6.7, 4.0, 2.5, 7.0], [4.6, 6.7, 4.0, 2.5, 7.0, 6.7], [6.7, 4.0, 2.5, 7.0, 6.7, 6.4], [4.0, 2.5, 7.0, 6.7, 6.4, 6.1], [2.5, 7.0, 6.7, 6.4, 6.1, 4.5], [7.0, 6.7, 6.4, 6.1, 4.5, 7.7], [6.7, 6.4, 6.1, 4.5, 7.7, 5.8], [6.4, 6.1, 4.5, 7.7, 5.8, 3.4], [6.1, 4.5, 7.7, 5.8, 3.4, 4.8], [4.5, 7.7, 5.8, 3.4, 4.8, 2.2], [7.7, 5.8, 3.4, 4.8, 2.2, 1.4], [5.8, 3.4, 4.8, 2.2, 1.4, 3.7], [3.4, 4.8, 2.2, 1.4, 3.7, 7.0], [4.8, 2.2, 1.4, 3.7, 7.0, 9.3], [2.2, 1.4, 3.7, 7.0, 9.3, 11.1], [1.4, 3.7, 7.0, 9.3, 11.1, 6.4], [3.7, 7.0, 9.3, 11.1, 6.4, 3.8], [7.0, 9.3, 11.1, 6.4, 3.8, 6.8], [9.3, 11.1, 6.4, 3.8, 6.8, 4.9], [11.1, 6.4, 3.8, 6.8, 4.9, 3.6], [6.4, 3.8, 6.8, 4.9, 3.6, 4.0], [3.8, 6.8, 4.9, 3.6, 4.0, 3.6], [6.8, 4.9, 3.6, 4.0, 3.6, 6.6], [4.9, 3.6, 4.0, 3.6, 6.6, 10.0], [3.6, 4.0, 3.6, 6.6, 10.0, 9.1], [4.0, 3.6, 6.6, 10.0, 9.1, 8.8], [3.6, 6.6, 10.0, 9.1, 8.8, 12.8], [6.6, 10.0, 9.1, 8.8, 12.8, 11.0], [10.0, 9.1, 8.8, 12.8, 11.0, 10.6], [9.1, 8.8, 12.8, 11.0, 10.6, 11.4], [8.8, 12.8, 11.0, 10.6, 11.4, 12.5], [12.8, 11.0, 10.6, 11.4, 12.5, 14.8], [11.0, 10.6, 11.4, 12.5, 14.8, 11.9], [10.6, 11.4, 12.5, 14.8, 11.9, 7.7], [11.4, 12.5, 14.8, 11.9, 7.7, 8.7], [12.5, 14.8, 11.9, 7.7, 8.7, 10.2], [14.8, 11.9, 7.7, 8.7, 10.2, 11.9], [11.9, 7.7, 8.7, 10.2, 11.9, 11.3], [7.7, 8.7, 10.2, 11.9, 11.3, 9.3], [8.7, 10.2, 11.9, 11.3, 9.3, 10.0], [10.2, 11.9, 11.3, 9.3, 10.0, 8.9], [11.9, 11.3, 9.3, 10.0, 8.9, 7.2], [11.3, 9.3, 10.0, 8.9, 7.2, 9.3], [9.3, 10.0, 8.9, 7.2, 9.3, 10.6], [10.0, 8.9, 7.2, 9.3, 10.6, 9.4], [8.9, 7.2, 9.3, 10.6, 9.4, 8.9], [7.2, 9.3, 10.6, 9.4, 8.9, 10.7], [9.3, 10.6, 9.4, 8.9, 10.7, 9.9], [10.6, 9.4, 8.9, 10.7, 9.9, 9.9], [9.4, 8.9, 10.7, 9.9, 9.9, 12.4], [8.9, 10.7, 9.9, 9.9, 12.4, 13.0], [10.7, 9.9, 9.9, 12.4, 13.0, 13.2], [9.9, 9.9, 12.4, 13.0, 13.2, 16.0], [9.9, 12.4, 13.0, 13.2, 16.0, 12.5], [12.4, 13.0, 13.2, 16.0, 12.5, 13.5], [13.0, 13.2, 16.0, 12.5, 13.5, 12.3], [13.2, 16.0, 12.5, 13.5, 12.3, 10.0], [16.0, 12.5, 13.5, 12.3, 10.0, 7.4], [12.5, 13.5, 12.3, 10.0, 7.4, 6.0], [13.5, 12.3, 10.0, 7.4, 6.0, 7.9], [12.3, 10.0, 7.4, 6.0, 7.9, 9.9], [10.0, 7.4, 6.0, 7.9, 9.9, 13.1], [7.4, 6.0, 7.9, 9.9, 13.1, 12.3], [6.0, 7.9, 9.9, 13.1, 12.3, 12.9], [7.9, 9.9, 13.1, 12.3, 12.9, 13.9], [9.9, 13.1, 12.3, 12.9, 13.9, 14.9], [13.1, 12.3, 12.9, 13.9, 14.9, 17.1], [12.3, 12.9, 13.9, 14.9, 17.1, 20.2], [12.9, 13.9, 14.9, 17.1, 20.2, 20.3], [13.9, 14.9, 17.1, 20.2, 20.3, 21.8], [14.9, 17.1, 20.2, 20.3, 21.8, 20.2], [17.1, 20.2, 20.3, 21.8, 20.2, 16.0], [20.2, 20.3, 21.8, 20.2, 16.0, 19.4], [20.3, 21.8, 20.2, 16.0, 19.4, 20.7], [21.8, 20.2, 16.0, 19.4, 20.7, 19.9], [20.2, 16.0, 19.4, 20.7, 19.9, 14.2], [16.0, 19.4, 20.7, 19.9, 14.2, 14.4], [19.4, 20.7, 19.9, 14.2, 14.4, 16.5], [20.7, 19.9, 14.2, 14.4, 16.5, 14.3], [19.9, 14.2, 14.4, 16.5, 14.3, 16.1], [14.2, 14.4, 16.5, 14.3, 16.1, 19.3], [14.4, 16.5, 14.3, 16.1, 19.3, 16.1], [16.5, 14.3, 16.1, 19.3, 16.1, 16.7], [14.3, 16.1, 19.3, 16.1, 16.7, 19.1], [16.1, 19.3, 16.1, 16.7, 19.1, 19.1], [19.3, 16.1, 16.7, 19.1, 19.1, 13.0], [16.1, 16.7, 19.1, 19.1, 13.0, 14.4], [16.7, 19.1, 19.1, 13.0, 14.4, 17.4], [19.1, 19.1, 13.0, 14.4, 17.4, 18.5], [19.1, 13.0, 14.4, 17.4, 18.5, 20.1], [13.0, 14.4, 17.4, 18.5, 20.1, 17.1], [14.4, 17.4, 18.5, 20.1, 17.1, 16.6], [17.4, 18.5, 20.1, 17.1, 16.6, 16.2], [18.5, 20.1, 17.1, 16.6, 16.2, 17.4], [20.1, 17.1, 16.6, 16.2, 17.4, 18.7], [17.1, 16.6, 16.2, 17.4, 18.7, 20.7], [16.6, 16.2, 17.4, 18.7, 20.7, 22.6], [16.2, 17.4, 18.7, 20.7, 22.6, 21.2], [17.4, 18.7, 20.7, 22.6, 21.2, 19.7], [18.7, 20.7, 22.6, 21.2, 19.7, 17.9], [20.7, 22.6, 21.2, 19.7, 17.9, 22.0], [22.6, 21.2, 19.7, 17.9, 22.0, 21.9], [21.2, 19.7, 17.9, 22.0, 21.9, 23.0], [19.7, 17.9, 22.0, 21.9, 23.0, 24.6], [17.9, 22.0, 21.9, 23.0, 24.6, 22.7], [22.0, 21.9, 23.0, 24.6, 22.7, 25.0], [21.9, 23.0, 24.6, 22.7, 25.0, 26.7], [23.0, 24.6, 22.7, 25.0, 26.7, 25.8], [24.6, 22.7, 25.0, 26.7, 25.8, 26.1], [22.7, 25.0, 26.7, 25.8, 26.1, 24.7], [25.0, 26.7, 25.8, 26.1, 24.7, 26.9], [26.7, 25.8, 26.1, 24.7, 26.9, 24.0], [25.8, 26.1, 24.7, 26.9, 24.0, 23.0], [26.1, 24.7, 26.9, 24.0, 23.0, 24.4], [24.7, 26.9, 24.0, 23.0, 24.4, 24.3], [26.9, 24.0, 23.0, 24.4, 24.3, 23.4], [24.0, 23.0, 24.4, 24.3, 23.4, 24.7], [23.0, 24.4, 24.3, 23.4, 24.7, 24.9], [24.4, 24.3, 23.4, 24.7, 24.9, 26.1], [24.3, 23.4, 24.7, 24.9, 26.1, 28.6], [23.4, 24.7, 24.9, 26.1, 28.6, 27.3], [24.7, 24.9, 26.1, 28.6, 27.3, 22.3], [24.9, 26.1, 28.6, 27.3, 22.3, 21.6], [26.1, 28.6, 27.3, 22.3, 21.6, 21.8], [28.6, 27.3, 22.3, 21.6, 21.8, 24.1], [27.3, 22.3, 21.6, 21.8, 24.1, 25.2], [22.3, 21.6, 21.8, 24.1, 25.2, 23.8], [21.6, 21.8, 24.1, 25.2, 23.8, 20.1], [21.8, 24.1, 25.2, 23.8, 20.1, 21.1], [24.1, 25.2, 23.8, 20.1, 21.1, 24.2], [25.2, 23.8, 20.1, 21.1, 24.2, 25.5], [23.8, 20.1, 21.1, 24.2, 25.5, 24.2], [20.1, 21.1, 24.2, 25.5, 24.2, 23.8], [21.1, 24.2, 25.5, 24.2, 23.8, 25.6], [24.2, 25.5, 24.2, 23.8, 25.6, 24.1], [25.5, 24.2, 23.8, 25.6, 24.1, 25.5], [24.2, 23.8, 25.6, 24.1, 25.5, 27.5], [23.8, 25.6, 24.1, 25.5, 27.5, 24.5], [25.6, 24.1, 25.5, 27.5, 24.5, 25.8], [24.1, 25.5, 27.5, 24.5, 25.8, 23.5], [25.5, 27.5, 24.5, 25.8, 23.5, 18.7], [27.5, 24.5, 25.8, 23.5, 18.7, 20.3], [24.5, 25.8, 23.5, 18.7, 20.3, 23.4], [25.8, 23.5, 18.7, 20.3, 23.4, 25.0], [23.5, 18.7, 20.3, 23.4, 25.0, 26.0], [18.7, 20.3, 23.4, 25.0, 26.0, 26.1], [20.3, 23.4, 25.0, 26.0, 26.1, 24.0], [23.4, 25.0, 26.0, 26.1, 24.0, 23.8], [25.0, 26.0, 26.1, 24.0, 23.8, 25.0], [26.0, 26.1, 24.0, 23.8, 25.0, 23.7], [26.1, 24.0, 23.8, 25.0, 23.7, 21.1], [24.0, 23.8, 25.0, 23.7, 21.1, 22.5], [23.8, 25.0, 23.7, 21.1, 22.5, 24.3], [25.0, 23.7, 21.1, 22.5, 24.3, 25.4], [23.7, 21.1, 22.5, 24.3, 25.4, 24.3], [21.1, 22.5, 24.3, 25.4, 24.3, 24.4], [22.5, 24.3, 25.4, 24.3, 24.4, 23.7], [24.3, 25.4, 24.3, 24.4, 23.7, 25.3], [25.4, 24.3, 24.4, 23.7, 25.3, 26.2], [24.3, 24.4, 23.7, 25.3, 26.2, 25.3], [24.4, 23.7, 25.3, 26.2, 25.3, 24.9], [23.7, 25.3, 26.2, 25.3, 24.9, 25.0], [25.3, 26.2, 25.3, 24.9, 25.0, 27.0], [26.2, 25.3, 24.9, 25.0, 27.0, 26.5], [25.3, 24.9, 25.0, 27.0, 26.5, 24.1], [24.9, 25.0, 27.0, 26.5, 24.1, 24.3], [25.0, 27.0, 26.5, 24.1, 24.3, 24.2], [27.0, 26.5, 24.1, 24.3, 24.2, 24.9], [26.5, 24.1, 24.3, 24.2, 24.9, 26.5], [24.1, 24.3, 24.2, 24.9, 26.5, 24.6], [24.3, 24.2, 24.9, 26.5, 24.6, 27.2], [24.2, 24.9, 26.5, 24.6, 27.2, 28.0], [24.9, 26.5, 24.6, 27.2, 28.0, 27.1], [26.5, 24.6, 27.2, 28.0, 27.1, 26.1], [24.6, 27.2, 28.0, 27.1, 26.1, 27.4], [27.2, 28.0, 27.1, 26.1, 27.4, 28.2], [28.0, 27.1, 26.1, 27.4, 28.2, 27.5], [27.1, 26.1, 27.4, 28.2, 27.5, 27.1], [26.1, 27.4, 28.2, 27.5, 27.1, 27.7], [27.4, 28.2, 27.5, 27.1, 27.7, 26.6], [28.2, 27.5, 27.1, 27.7, 26.6, 24.3], [27.5, 27.1, 27.7, 26.6, 24.3, 25.3], [27.1, 27.7, 26.6, 24.3, 25.3, 27.8]]\n",
      "[6.3, 2.4, -1.2, -0.6, -0.1, -1.0, -2.9, -2.3, -2.7, -1.7, -0.6, 0.3, 1.9, 0.7, -0.4, 3.0, 4.6, 2.8, 4.3, 5.5, 5.9, 6.8, 6.0, 5.2, 3.9, 2.6, 1.5, -0.4, -1.6, -8.3, -6.4, -1.7, -0.1, -0.5, 4.0, 6.8, 7.4, 6.5, 8.1, 9.8, -1.4, -5.9, -4.1, 1.0, 4.6, 6.7, 4.0, 2.5, 7.0, 6.7, 6.4, 6.1, 4.5, 7.7, 5.8, 3.4, 4.8, 2.2, 1.4, 3.7, 7.0, 9.3, 11.1, 6.4, 3.8, 6.8, 4.9, 3.6, 4.0, 3.6, 6.6, 10.0, 9.1, 8.8, 12.8, 11.0, 10.6, 11.4, 12.5, 14.8, 11.9, 7.7, 8.7, 10.2, 11.9, 11.3, 9.3, 10.0, 8.9, 7.2, 9.3, 10.6, 9.4, 8.9, 10.7, 9.9, 9.9, 12.4, 13.0, 13.2, 16.0, 12.5, 13.5, 12.3, 10.0, 7.4, 6.0, 7.9, 9.9, 13.1, 12.3, 12.9, 13.9, 14.9, 17.1, 20.2, 20.3, 21.8, 20.2, 16.0, 19.4, 20.7, 19.9, 14.2, 14.4, 16.5, 14.3, 16.1, 19.3, 16.1, 16.7, 19.1, 19.1, 13.0, 14.4, 17.4, 18.5, 20.1, 17.1, 16.6, 16.2, 17.4, 18.7, 20.7, 22.6, 21.2, 19.7, 17.9, 22.0, 21.9, 23.0, 24.6, 22.7, 25.0, 26.7, 25.8, 26.1, 24.7, 26.9, 24.0, 23.0, 24.4, 24.3, 23.4, 24.7, 24.9, 26.1, 28.6, 27.3, 22.3, 21.6, 21.8, 24.1, 25.2, 23.8, 20.1, 21.1, 24.2, 25.5, 24.2, 23.8, 25.6, 24.1, 25.5, 27.5, 24.5, 25.8, 23.5, 18.7, 20.3, 23.4, 25.0, 26.0, 26.1, 24.0, 23.8, 25.0, 23.7, 21.1, 22.5, 24.3, 25.4, 24.3, 24.4, 23.7, 25.3, 26.2, 25.3, 24.9, 25.0, 27.0, 26.5, 24.1, 24.3, 24.2, 24.9, 26.5, 24.6, 27.2, 28.0, 27.1, 26.1, 27.4, 28.2, 27.5, 27.1, 27.7, 26.6, 24.3, 25.3, 27.8, 29.9]\n"
     ]
    }
   ],
   "source": [
    "x_train, y_train = make_data(df[train_data]) # 2006~2019\n",
    "x_test, y_test = make_data(df[test_data]) # 2020\n",
    "print(x_test)\n",
    "print(y_test)"
   ]
  },
  {
   "cell_type": "code",
   "execution_count": 9,
   "metadata": {
    "colab": {},
    "colab_type": "code",
    "executionInfo": {
     "elapsed": 2586,
     "status": "ok",
     "timestamp": 1598489142762,
     "user": {
      "displayName": "강주현",
      "photoUrl": "https://lh3.googleusercontent.com/a-/AOh14GhI6eR4X0pU-wyWD_lrneGGkf4JwhmGDwx7Dopr=s64",
      "userId": "12298000088270855699"
     },
     "user_tz": -540
    },
    "id": "bkmIFIHtGe2P"
   },
   "outputs": [],
   "source": [
    "# Linear Regression 알고리즘 사용\n",
    "model = LinearRegression(normalize=True)\n",
    "# 학습\n",
    "model.fit(x_train, y_train)\n",
    "# 검증(예측)\n",
    "y_predict = model.predict(x_test)"
   ]
  },
  {
   "cell_type": "code",
   "execution_count": 10,
   "metadata": {
    "colab": {
     "base_uri": "https://localhost:8080/",
     "height": 548
    },
    "colab_type": "code",
    "executionInfo": {
     "elapsed": 2565,
     "status": "ok",
     "timestamp": 1598489142764,
     "user": {
      "displayName": "강주현",
      "photoUrl": "https://lh3.googleusercontent.com/a-/AOh14GhI6eR4X0pU-wyWD_lrneGGkf4JwhmGDwx7Dopr=s64",
      "userId": "12298000088270855699"
     },
     "user_tz": -540
    },
    "id": "cd33nwhkGsi4",
    "outputId": "b47b5f4c-df2e-46c7-f08c-2ae1827e6639"
   },
   "outputs": [
    {
     "name": "stdout",
     "output_type": "stream",
     "text": [
      "평균= 1.6449368669342912\n",
      "최대오차= 10.685969594050539\n"
     ]
    },
    {
     "data": {
      "image/png": "[encoded data removed]",
      "text/plain": [
       "<Figure size 1000x600 with 1 Axes>"
      ]
     },
     "metadata": {
      "needs_background": "light",
      "tags": []
     },
     "output_type": "display_data"
    }
   ],
   "source": [
    "plt.figure(figsize=(10, 6), dpi=100)\n",
    "plt.plot(y_test, c='r')\n",
    "plt.plot(y_predict, c='b')\n",
    "# plt.savefig('weath-tmp.png')\n",
    "plt.show\n",
    "\n",
    "diff_y = abs(y_predict - y_test)\n",
    "print('평균=', sum(diff_y)/ len(diff_y))\n",
    "print('최대오차=', max(diff_y))"
   ]
  },
  {
   "cell_type": "code",
   "execution_count": 10,
   "metadata": {
    "colab": {},
    "colab_type": "code",
    "executionInfo": {
     "elapsed": 2559,
     "status": "ok",
     "timestamp": 1598489142767,
     "user": {
      "displayName": "강주현",
      "photoUrl": "https://lh3.googleusercontent.com/a-/AOh14GhI6eR4X0pU-wyWD_lrneGGkf4JwhmGDwx7Dopr=s64",
      "userId": "12298000088270855699"
     },
     "user_tz": -540
    },
    "id": "WxZmkT14Guju"
   },
   "outputs": [],
   "source": []
  }
 ],
 "metadata": {
  "colab": {
   "authorship_tag": "ABX9TyOn2iH5yMPsF2AKxYOVYLca",
   "collapsed_sections": [],
   "name": "predict_temp.ipynb",
   "provenance": []
  },
  "kernelspec": {
   "display_name": "Python 3",
   "language": "python",
   "name": "python3"
  },
  "language_info": {
   "codemirror_mode": {
    "name": "ipython",
    "version": 3
   },
   "file_extension": ".py",
   "mimetype": "text/x-python",
   "name": "python",
   "nbconvert_exporter": "python",
   "pygments_lexer": "ipython3",
   "version": "3.8.5"
  }
 },
 "nbformat": 4,
 "nbformat_minor": 1
}
