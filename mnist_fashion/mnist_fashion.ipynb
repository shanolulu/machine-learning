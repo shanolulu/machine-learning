{
 "cells": [
  {
   "cell_type": "markdown",
   "metadata": {
    "colab_type": "text",
    "id": "b7qBvnkrCpih"
   },
   "source": [
    "# mnist fashion\n",
    "1. test 데이터 중 첫번 째 데이터를 이미지로 표시 -> 이미지 제출\n",
    "2. fashion-mnist_train.csv(60000), fashion-mnist_test.csv(10000)\n",
    "    - RandomForestClassifier\n",
    "    - GradientBoostingClassifier\n",
    "    - MLPClassifier\n",
    "    - SVC\n",
    "\n",
    "3. 최적의 파라미터를 검색해서 학습 (GridSearchCV), 정답률 제출(ipynb 코드를 제출)\n",
    "\n"
   ]
  },
  {
   "cell_type": "code",
   "execution_count": null,
   "metadata": {
    "colab": {
     "base_uri": "https://localhost:8080/",
     "height": 127
    },
    "colab_type": "code",
    "executionInfo": {
     "elapsed": 19339,
     "status": "ok",
     "timestamp": 1598749210307,
     "user": {
      "displayName": "강주현",
      "photoUrl": "https://lh3.googleusercontent.com/a-/AOh14GhI6eR4X0pU-wyWD_lrneGGkf4JwhmGDwx7Dopr=s64",
      "userId": "12298000088270855699"
     },
     "user_tz": -540
    },
    "id": "mIoX8ONdHAEz",
    "outputId": "363a4452-bcc9-4e35-e059-dd2b3412d220"
   },
   "outputs": [
    {
     "name": "stdout",
     "output_type": "stream",
     "text": [
      "Go to this URL in a browser: https://accounts.google.com/o/oauth2/auth?client_id=947318989803-6bn6qk8qdgf4n4g3pfee6491hc0brc4i.apps.googleusercontent.com&redirect_uri=urn%3aietf%3awg%3aoauth%3a2.0%3aoob&scope=email%20https%3a%2f%2fwww.googleapis.com%2fauth%2fdocs.test%20https%3a%2f%2fwww.googleapis.com%2fauth%2fdrive%20https%3a%2f%2fwww.googleapis.com%2fauth%2fdrive.photos.readonly%20https%3a%2f%2fwww.googleapis.com%2fauth%2fpeopleapi.readonly&response_type=code\n",
      "\n",
      "Enter your authorization code:\n",
      "··········\n",
      "Mounted at /content/drive\n"
     ]
    }
   ],
   "source": [
    "from google.colab import drive\n",
    "drive.mount('/content/drive')"
   ]
  },
  {
   "cell_type": "code",
   "execution_count": null,
   "metadata": {
    "colab": {},
    "colab_type": "code",
    "id": "Pmt6G03DJReb"
   },
   "outputs": [],
   "source": [
    "import pandas as pd\n",
    "import numpy as np\n",
    "import matplotlib.pyplot as plt\n",
    "%matplotlib inline\n",
    "\n",
    "# make model\n",
    "from sklearn.ensemble import RandomForestClassifier, GradientBoostingClassifier\n",
    "from sklearn.ensemble import VotingClassifier # 최적화 된 값을 선택할 때 사용\n",
    "from sklearn.svm import SVC\n",
    "from sklearn.model_selection import GridSearchCV"
   ]
  },
  {
   "cell_type": "code",
   "execution_count": null,
   "metadata": {
    "colab": {
     "base_uri": "https://localhost:8080/",
     "height": 265
    },
    "colab_type": "code",
    "executionInfo": {
     "elapsed": 2580,
     "status": "ok",
     "timestamp": 1598657515534,
     "user": {
      "displayName": "강주현",
      "photoUrl": "https://lh3.googleusercontent.com/a-/AOh14GhI6eR4X0pU-wyWD_lrneGGkf4JwhmGDwx7Dopr=s64",
      "userId": "12298000088270855699"
     },
     "user_tz": -540
    },
    "id": "vK6i0T3pKwOx",
    "outputId": "d645ce6e-8eb9-4d67-e92d-fa9b34f909ab"
   },
   "outputs": [
    {
     "data": {
      "image/png": "[encoded data removed]",
      "text/plain": [
       "<Figure size 432x288 with 1 Axes>"
      ]
     },
     "metadata": {
      "needs_background": "light",
      "tags": []
     },
     "output_type": "display_data"
    }
   ],
   "source": [
    "train = open('fashion-mnist_train.csv', 'r')\n",
    "test = open('fashion-mnist_train.csv', 'r')\n",
    "train_list = train.readlines()\n",
    "\n",
    "all_values = train_list[1].split(',')\n",
    "image_array = np.asfarray(all_values[1:]).reshape((28,28))\n",
    "\n",
    "plt.imshow(image_array, cmap='Greys', interpolation=None)\n",
    "plt.show()"
   ]
  },
  {
   "cell_type": "code",
   "execution_count": null,
   "metadata": {
    "colab": {},
    "colab_type": "code",
    "id": "kVEs_haBMJny"
   },
   "outputs": [],
   "source": [
    "# # 모든 이미지\n",
    "# for i in range(len(train_list)-1):\n",
    "#     all_values = train_list[i+1].split(',')\n",
    "#     image_array = np.asfarray(all_values[1:]).reshape((28,28))\n",
    "#     plt.imshow(image_array, cmap='Greys', interpolation=None)\n",
    "#     plt.show()"
   ]
  },
  {
   "cell_type": "markdown",
   "metadata": {
    "colab_type": "text",
    "id": "CIiQd9B8P16e"
   },
   "source": [
    "## Model"
   ]
  },
  {
   "cell_type": "code",
   "execution_count": null,
   "metadata": {
    "colab": {
     "base_uri": "https://localhost:8080/",
     "height": 521
    },
    "colab_type": "code",
    "executionInfo": {
     "elapsed": 2893,
     "status": "ok",
     "timestamp": 1598749218919,
     "user": {
      "displayName": "강주현",
      "photoUrl": "https://lh3.googleusercontent.com/a-/AOh14GhI6eR4X0pU-wyWD_lrneGGkf4JwhmGDwx7Dopr=s64",
      "userId": "12298000088270855699"
     },
     "user_tz": -540
    },
    "id": "qJtA47sNQd_N",
    "outputId": "9b2bc129-ca11-4a3d-d256-6e268380d1c1"
   },
   "outputs": [
    {
     "data": {
      "text/plain": [
       "[      label  pixel1  pixel2  pixel3  ...  pixel781  pixel782  pixel783  pixel784\n",
       " 0         2       0       0       0  ...         0         0         0         0\n",
       " 1         9       0       0       0  ...         0         0         0         0\n",
       " 2         6       0       0       0  ...         0         0         0         0\n",
       " 3         0       0       0       0  ...         0         0         0         0\n",
       " 4         3       0       0       0  ...         0         0         0         0\n",
       " ...     ...     ...     ...     ...  ...       ...       ...       ...       ...\n",
       " 4995      7       0       0       0  ...         0         0         0         0\n",
       " 4996      7       0       0       0  ...         0         0         0         0\n",
       " 4997      6       0       0       0  ...         0         0         0         0\n",
       " 4998      3       0       0       0  ...         0         0         0         0\n",
       " 4999      6       0       0       0  ...       113        46         0         0\n",
       " \n",
       " [5000 rows x 785 columns],\n",
       "      label  pixel1  pixel2  pixel3  ...  pixel781  pixel782  pixel783  pixel784\n",
       " 0        0       0       0       0  ...         0         0         0         0\n",
       " 1        1       0       0       0  ...         0         0         0         0\n",
       " 2        2       0       0       0  ...        31         0         0         0\n",
       " 3        2       0       0       0  ...       222        56         0         0\n",
       " 4        3       0       0       0  ...         0         0         0         0\n",
       " ..     ...     ...     ...     ...  ...       ...       ...       ...       ...\n",
       " 995      9       0       0       0  ...       103        98       122        37\n",
       " 996      2       0       0       0  ...        29         0         0         0\n",
       " 997      7       0       0       0  ...         0         0         0         0\n",
       " 998      4       0       0       0  ...        81         0         0         0\n",
       " 999      5       0       0       0  ...         0         0         0         0\n",
       " \n",
       " [1000 rows x 785 columns]]"
      ]
     },
     "execution_count": 3,
     "metadata": {
      "tags": []
     },
     "output_type": "execute_result"
    }
   ],
   "source": [
    "train = pd.read_csv('fashion-mnist_train.csv')\n",
    "test = pd.read_csv('fashion-mnist_test.csv')\n",
    "datas = [train, test]\n",
    "datas"
   ]
  },
  {
   "cell_type": "code",
   "execution_count": null,
   "metadata": {
    "colab": {
     "base_uri": "https://localhost:8080/",
     "height": 503
    },
    "colab_type": "code",
    "executionInfo": {
     "elapsed": 2229,
     "status": "ok",
     "timestamp": 1598749218923,
     "user": {
      "displayName": "강주현",
      "photoUrl": "https://lh3.googleusercontent.com/a-/AOh14GhI6eR4X0pU-wyWD_lrneGGkf4JwhmGDwx7Dopr=s64",
      "userId": "12298000088270855699"
     },
     "user_tz": -540
    },
    "id": "I9RAMGJGUir7",
    "outputId": "35624993-c7c4-4382-8447-09b2fd11a495"
   },
   "outputs": [
    {
     "name": "stdout",
     "output_type": "stream",
     "text": [
      "      pixel1  pixel2  pixel3  pixel4  ...  pixel781  pixel782  pixel783  pixel784\n",
      "0          0       0       0       0  ...         0         0         0         0\n",
      "1          0       0       0       0  ...         0         0         0         0\n",
      "2          0       0       0       0  ...         0         0         0         0\n",
      "3          0       0       0       1  ...         0         0         0         0\n",
      "4          0       0       0       0  ...         0         0         0         0\n",
      "...      ...     ...     ...     ...  ...       ...       ...       ...       ...\n",
      "4995       0       0       0       0  ...         0         0         0         0\n",
      "4996       0       0       0       0  ...         0         0         0         0\n",
      "4997       0       0       0       0  ...         0         0         0         0\n",
      "4998       0       0       0       0  ...         0         0         0         0\n",
      "4999       0       0       0       0  ...       113        46         0         0\n",
      "\n",
      "[5000 rows x 784 columns]       label\n",
      "0         2\n",
      "1         9\n",
      "2         6\n",
      "3         0\n",
      "4         3\n",
      "...     ...\n",
      "4995      7\n",
      "4996      7\n",
      "4997      6\n",
      "4998      3\n",
      "4999      6\n",
      "\n",
      "[5000 rows x 1 columns]\n"
     ]
    }
   ],
   "source": [
    "x = train.iloc[:, 1:] # x =train.loc[:, 'pixel1':'pixel784']\n",
    "y = train.iloc[:, :1]\n",
    "print(x, y)"
   ]
  },
  {
   "cell_type": "markdown",
   "metadata": {
    "colab_type": "text",
    "id": "NOBCtAdIfF8L"
   },
   "source": [
    "## RandomForest"
   ]
  },
  {
   "cell_type": "code",
   "execution_count": null,
   "metadata": {
    "colab": {
     "base_uri": "https://localhost:8080/",
     "height": 611
    },
    "colab_type": "code",
    "executionInfo": {
     "elapsed": 3054528,
     "status": "ok",
     "timestamp": 1598637010272,
     "user": {
      "displayName": "강주현",
      "photoUrl": "https://lh3.googleusercontent.com/a-/AOh14GhI6eR4X0pU-wyWD_lrneGGkf4JwhmGDwx7Dopr=s64",
      "userId": "12298000088270855699"
     },
     "user_tz": -540
    },
    "id": "Us8T1BL4iLA8",
    "outputId": "2c9fa661-de8d-4316-8ada-8ce37f9cce00"
   },
   "outputs": [
    {
     "name": "stdout",
     "output_type": "stream",
     "text": [
      "Fitting 5 folds for each of 162 candidates, totalling 810 fits\n"
     ]
    },
    {
     "name": "stderr",
     "output_type": "stream",
     "text": [
      "[Parallel(n_jobs=4)]: Using backend LokyBackend with 4 concurrent workers.\n",
      "/usr/local/lib/python3.6/dist-packages/joblib/externals/loky/process_executor.py:691: UserWarning: A worker stopped while some jobs were given to the executor. This can be caused by a too short worker timeout or by a memory leak.\n",
      "  \"timeout or by a memory leak.\", UserWarning\n",
      "[Parallel(n_jobs=4)]: Done  42 tasks      | elapsed:  1.9min\n",
      "[Parallel(n_jobs=4)]: Done 192 tasks      | elapsed:  7.4min\n",
      "[Parallel(n_jobs=4)]: Done 442 tasks      | elapsed: 21.0min\n",
      "[Parallel(n_jobs=4)]: Done 792 tasks      | elapsed: 49.0min\n",
      "[Parallel(n_jobs=4)]: Done 810 out of 810 | elapsed: 50.7min finished\n"
     ]
    },
    {
     "data": {
      "text/plain": [
       "GridSearchCV(cv=None, error_score=nan,\n",
       "             estimator=RandomForestClassifier(bootstrap=True, ccp_alpha=0.0,\n",
       "                                              class_weight=None,\n",
       "                                              criterion='gini', max_depth=None,\n",
       "                                              max_features='auto',\n",
       "                                              max_leaf_nodes=None,\n",
       "                                              max_samples=None,\n",
       "                                              min_impurity_decrease=0.0,\n",
       "                                              min_impurity_split=None,\n",
       "                                              min_samples_leaf=1,\n",
       "                                              min_samples_split=2,\n",
       "                                              min_weight_fraction_leaf=0.0,\n",
       "                                              n_estimators=100, n_jobs=None,\n",
       "                                              oob_score=False,\n",
       "                                              random_state=None, verbose=0,\n",
       "                                              warm_start=False),\n",
       "             iid='deprecated', n_jobs=4,\n",
       "             param_grid={'bootstrap': [False], 'max_depth': [None],\n",
       "                         'max_features': [1, 3, 5],\n",
       "                         'min_samples_leaf': [1, 3, 10],\n",
       "                         'min_samples_split': [2, 3, 10],\n",
       "                         'n_estimators': [100, 300, 500, 700, 800, 900]},\n",
       "             pre_dispatch='2*n_jobs', refit=True, return_train_score=False,\n",
       "             scoring='accuracy', verbose=1)"
      ]
     },
     "execution_count": 8,
     "metadata": {
      "tags": []
     },
     "output_type": "execute_result"
    }
   ],
   "source": [
    "# RandomForest\n",
    "rf = RandomForestClassifier()\n",
    "# Grid Search\n",
    "rf_param_grid = {\n",
    "    'max_depth': [None], # default 값 사용\n",
    "    'max_features': [1, 3, 5],\n",
    "    'min_samples_split':[2, 3, 10],\n",
    "    'min_samples_leaf':[1, 3, 10],\n",
    "    'bootstrap':[False],\n",
    "    'n_estimators':[100, 300, 500, 700, 800, 900]\n",
    "}\n",
    "rf_grid = GridSearchCV(rf, param_grid=rf_param_grid, scoring='accuracy', n_jobs=4, verbose=1)\n",
    "rf_grid.fit(x,y.values.ravel()) # ravel은 다차원의 배열을 1차원 배열로 평평하게 바꿔줌!!"
   ]
  },
  {
   "cell_type": "code",
   "execution_count": null,
   "metadata": {
    "colab": {
     "base_uri": "https://localhost:8080/",
     "height": 179
    },
    "colab_type": "code",
    "executionInfo": {
     "elapsed": 3054033,
     "status": "ok",
     "timestamp": 1598637010276,
     "user": {
      "displayName": "강주현",
      "photoUrl": "https://lh3.googleusercontent.com/a-/AOh14GhI6eR4X0pU-wyWD_lrneGGkf4JwhmGDwx7Dopr=s64",
      "userId": "12298000088270855699"
     },
     "user_tz": -540
    },
    "id": "t5mqD3ccjh9B",
    "outputId": "2de7579c-4f59-454b-cafa-e51c46eb57cf"
   },
   "outputs": [
    {
     "name": "stdout",
     "output_type": "stream",
     "text": [
      "0.8533999999999999\n",
      "RandomForestClassifier(bootstrap=False, ccp_alpha=0.0, class_weight=None,\n",
      "                       criterion='gini', max_depth=None, max_features=5,\n",
      "                       max_leaf_nodes=None, max_samples=None,\n",
      "                       min_impurity_decrease=0.0, min_impurity_split=None,\n",
      "                       min_samples_leaf=1, min_samples_split=2,\n",
      "                       min_weight_fraction_leaf=0.0, n_estimators=500,\n",
      "                       n_jobs=None, oob_score=False, random_state=None,\n",
      "                       verbose=0, warm_start=False)\n"
     ]
    }
   ],
   "source": [
    "# best_estimator_estimator\n",
    "# best_score_:float, best_params_:dict, best_index_:int, scorer_:function or a dict, n_splits_:int, refit_time_:float\n",
    "\n",
    "best_score = rf_grid.best_score_\n",
    "rf_best = rf_grid.best_estimator_\n",
    "\n",
    "print(best_score)\n",
    "print(rf_best)"
   ]
  },
  {
   "cell_type": "markdown",
   "metadata": {
    "colab_type": "text",
    "id": "ZszUiuY4onw5"
   },
   "source": [
    "## GradientBoost"
   ]
  },
  {
   "cell_type": "code",
   "execution_count": null,
   "metadata": {
    "colab": {
     "base_uri": "https://localhost:8080/",
     "height": 377
    },
    "colab_type": "code",
    "executionInfo": {
     "elapsed": 3072846,
     "status": "ok",
     "timestamp": 1598640083893,
     "user": {
      "displayName": "강주현",
      "photoUrl": "https://lh3.googleusercontent.com/a-/AOh14GhI6eR4X0pU-wyWD_lrneGGkf4JwhmGDwx7Dopr=s64",
      "userId": "12298000088270855699"
     },
     "user_tz": -540
    },
    "id": "d3ljCSZYnyPD",
    "outputId": "b10a0cc4-aa06-47e7-e5b0-08f134818c84"
   },
   "outputs": [
    {
     "name": "stdout",
     "output_type": "stream",
     "text": [
      "Fitting 5 folds for each of 162 candidates, totalling 810 fits\n"
     ]
    },
    {
     "name": "stderr",
     "output_type": "stream",
     "text": [
      "[Parallel(n_jobs=5)]: Using backend LokyBackend with 5 concurrent workers.\n",
      "/usr/local/lib/python3.6/dist-packages/joblib/externals/loky/process_executor.py:691: UserWarning: A worker stopped while some jobs were given to the executor. This can be caused by a too short worker timeout or by a memory leak.\n",
      "  \"timeout or by a memory leak.\", UserWarning\n",
      "[Parallel(n_jobs=5)]: Done  40 tasks      | elapsed:  1.8min\n",
      "[Parallel(n_jobs=5)]: Done 190 tasks      | elapsed:  7.3min\n",
      "[Parallel(n_jobs=5)]: Done 440 tasks      | elapsed: 20.8min\n",
      "[Parallel(n_jobs=5)]: Done 790 tasks      | elapsed: 49.0min\n",
      "[Parallel(n_jobs=5)]: Done 810 out of 810 | elapsed: 51.0min finished\n",
      "/usr/local/lib/python3.6/dist-packages/sklearn/model_selection/_search.py:739: DataConversionWarning: A column-vector y was passed when a 1d array was expected. Please change the shape of y to (n_samples,), for example using ravel().\n",
      "  self.best_estimator_.fit(X, y, **fit_params)\n"
     ]
    },
    {
     "name": "stdout",
     "output_type": "stream",
     "text": [
      "0.8495999999999999\n",
      "RandomForestClassifier(bootstrap=False, ccp_alpha=0.0, class_weight=None,\n",
      "                       criterion='gini', max_depth=None, max_features=5,\n",
      "                       max_leaf_nodes=None, max_samples=None,\n",
      "                       min_impurity_decrease=0.0, min_impurity_split=None,\n",
      "                       min_samples_leaf=1, min_samples_split=3,\n",
      "                       min_weight_fraction_leaf=0.0, n_estimators=500,\n",
      "                       n_jobs=None, oob_score=False, random_state=None,\n",
      "                       verbose=0, warm_start=False)\n"
     ]
    }
   ],
   "source": [
    "# GradientBoost\n",
    "gb = GradientBoostingClassifier()\n",
    "# Grid Search\n",
    "gb_param_grid ={\n",
    "    'loss':['deviance'],\n",
    "    'n_estimators':[100, 300, 500, 1000],\n",
    "    'learning_rate':[0.1, 0.05, 0.01],\n",
    "    'max_depth':[4, 8],\n",
    "    'max_feature':[0.3, 0.1],\n",
    "    'min_sample_leaf':[100, 150, 200]\n",
    "}\n",
    "\n",
    "gb_grid = GridSearchCV(rf, param_grid=rf_param_grid, scoring = 'accuracy', n_jobs=5, verbose=1)\n",
    "gb_grid.fit(x,y)\n",
    "\n",
    "best_score = gb_grid.best_score_\n",
    "gb_best = gb_grid.best_estimator_\n",
    "\n",
    "print(best_score)\n",
    "print(gb_best)"
   ]
  },
  {
   "cell_type": "markdown",
   "metadata": {
    "colab_type": "text",
    "id": "lAwX9WqqJt4K"
   },
   "source": [
    "## SVM"
   ]
  },
  {
   "cell_type": "code",
   "execution_count": null,
   "metadata": {
    "colab": {
     "base_uri": "https://localhost:8080/",
     "height": 195
    },
    "colab_type": "code",
    "executionInfo": {
     "elapsed": 4922018,
     "status": "ok",
     "timestamp": 1598718011042,
     "user": {
      "displayName": "강주현",
      "photoUrl": "https://lh3.googleusercontent.com/a-/AOh14GhI6eR4X0pU-wyWD_lrneGGkf4JwhmGDwx7Dopr=s64",
      "userId": "12298000088270855699"
     },
     "user_tz": -540
    },
    "id": "as-z6ACXoigi",
    "outputId": "eba33d8f-98e4-437b-8f54-7dc7bfabd3d8"
   },
   "outputs": [
    {
     "name": "stdout",
     "output_type": "stream",
     "text": [
      "Fitting 5 folds for each of 40 candidates, totalling 200 fits\n"
     ]
    },
    {
     "name": "stderr",
     "output_type": "stream",
     "text": [
      "[Parallel(n_jobs=4)]: Using backend LokyBackend with 4 concurrent workers.\n",
      "[Parallel(n_jobs=4)]: Done  42 tasks      | elapsed: 17.6min\n",
      "[Parallel(n_jobs=4)]: Done 192 tasks      | elapsed: 77.9min\n",
      "[Parallel(n_jobs=4)]: Done 200 out of 200 | elapsed: 81.1min finished\n",
      "/usr/local/lib/python3.6/dist-packages/sklearn/utils/validation.py:760: DataConversionWarning: A column-vector y was passed when a 1d array was expected. Please change the shape of y to (n_samples, ), for example using ravel().\n",
      "  y = column_or_1d(y, warn=True)\n"
     ]
    },
    {
     "name": "stdout",
     "output_type": "stream",
     "text": [
      "0.1034\n",
      "{'C': 0.01, 'gamma': 0.001, 'kernel': 'rbf'}\n"
     ]
    }
   ],
   "source": [
    "# SVM\n",
    "# scv = SVC(probability=True)\n",
    "svc = SVC()\n",
    "svc_param_grid = {'kernel':['rbf'], 'gamma':[0.001, 0.01, 0.1, 0.5, 1], 'C':[0.01, 0.1, 1, 10, 50, 100, 200, 300]}\n",
    "\n",
    "svc_grid = GridSearchCV(svc, param_grid = svc_param_grid, scoring='accuracy', n_jobs=4, verbose=1) # verbose가 0이면 백그라운드에서 실행되기 때문에 결과를 확인할 수 없다.\n",
    "svc_grid.fit(x,y)\n",
    "svc_best = svc_grid.best_estimator_\n",
    "print(svc_grid.best_score_)\n",
    "print(svc_grid.best_params_)"
   ]
  },
  {
   "cell_type": "code",
   "execution_count": 5,
   "metadata": {
    "colab": {
     "base_uri": "https://localhost:8080/",
     "height": 197
    },
    "colab_type": "code",
    "executionInfo": {
     "elapsed": 3615195,
     "status": "ok",
     "timestamp": 1598758166743,
     "user": {
      "displayName": "강주현",
      "photoUrl": "https://lh3.googleusercontent.com/a-/AOh14GhI6eR4X0pU-wyWD_lrneGGkf4JwhmGDwx7Dopr=s64",
      "userId": "12298000088270855699"
     },
     "user_tz": -540
    },
    "id": "sASJh7BZiq9f",
    "outputId": "e78d8866-8e94-4096-82e2-dec1e36f1398"
   },
   "outputs": [
    {
     "name": "stdout",
     "output_type": "stream",
     "text": [
      "Fitting 5 folds for each of 120 candidates, totalling 600 fits\n"
     ]
    },
    {
     "name": "stderr",
     "output_type": "stream",
     "text": [
      "[Parallel(n_jobs=4)]: Using backend LokyBackend with 4 concurrent workers.\n",
      "[Parallel(n_jobs=4)]: Done  42 tasks      | elapsed: 10.5min\n",
      "[Parallel(n_jobs=4)]: Done 192 tasks      | elapsed: 47.1min\n",
      "[Parallel(n_jobs=4)]: Done 442 tasks      | elapsed: 108.7min\n",
      "[Parallel(n_jobs=4)]: Done 600 out of 600 | elapsed: 147.9min finished\n",
      "/usr/local/lib/python3.6/dist-packages/sklearn/utils/validation.py:760: DataConversionWarning: A column-vector y was passed when a 1d array was expected. Please change the shape of y to (n_samples, ), for example using ravel().\n",
      "  y = column_or_1d(y, warn=True)\n"
     ]
    },
    {
     "name": "stdout",
     "output_type": "stream",
     "text": [
      "0.8106\n",
      "{'C': 0.01, 'gamma': 0.001, 'kernel': 'linear', 'random_state': 1}\n"
     ]
    }
   ],
   "source": [
    "# SVM\n",
    "# svc = SVC(probability=True)\n",
    "svc = SVC()\n",
    "svc_param_grid = {'kernel':['rbf', 'linear', 'sigmoid'], 'gamma':[0.001, 0.01, 0.1, 0.5, 1], 'C':[0.01, 0.1, 1, 10, 50, 100, 200, 300], 'random_state':[1]}\n",
    "\n",
    "svc_grid = GridSearchCV(svc, param_grid = svc_param_grid, scoring='accuracy', n_jobs=4, verbose=1) # verbose가 0이면 백그라운드에서 실행되기 때문에 결과를 확인할 수 없다.\n",
    "svc_grid.fit(x,y)\n",
    "svc_best = svc_grid.best_estimator_\n",
    "print(svc_grid.best_score_)\n",
    "print(svc_grid.best_params_)"
   ]
  },
  {
   "cell_type": "markdown",
   "metadata": {
    "colab_type": "text",
    "id": "A7PTxg77nRxG"
   },
   "source": [
    "## MLP"
   ]
  },
  {
   "cell_type": "code",
   "execution_count": null,
   "metadata": {
    "colab": {},
    "colab_type": "code",
    "id": "e-0AppuHnffD"
   },
   "outputs": [],
   "source": [
    "from sklearn.neural_network import MLPClassifier\n",
    "from sklearn.metrics import accuracy_score\n",
    "from sklearn.model_selection import train_test_split"
   ]
  },
  {
   "cell_type": "code",
   "execution_count": null,
   "metadata": {
    "colab": {
     "base_uri": "https://localhost:8080/",
     "height": 269
    },
    "colab_type": "code",
    "executionInfo": {
     "elapsed": 538138,
     "status": "ok",
     "timestamp": 1598658068046,
     "user": {
      "displayName": "강주현",
      "photoUrl": "https://lh3.googleusercontent.com/a-/AOh14GhI6eR4X0pU-wyWD_lrneGGkf4JwhmGDwx7Dopr=s64",
      "userId": "12298000088270855699"
     },
     "user_tz": -540
    },
    "id": "5s4RH1_FIhry",
    "outputId": "0d5cae7a-920c-4e88-f50c-df6db2fe63fd"
   },
   "outputs": [
    {
     "name": "stdout",
     "output_type": "stream",
     "text": [
      "Fitting 5 folds for each of 6 candidates, totalling 30 fits\n"
     ]
    },
    {
     "name": "stderr",
     "output_type": "stream",
     "text": [
      "[Parallel(n_jobs=4)]: Using backend LokyBackend with 4 concurrent workers.\n",
      "[Parallel(n_jobs=4)]: Done  30 out of  30 | elapsed:  8.5min finished\n",
      "/usr/local/lib/python3.6/dist-packages/sklearn/neural_network/_multilayer_perceptron.py:934: DataConversionWarning: A column-vector y was passed when a 1d array was expected. Please change the shape of y to (n_samples, ), for example using ravel().\n",
      "  y = column_or_1d(y, warn=True)\n"
     ]
    },
    {
     "name": "stdout",
     "output_type": "stream",
     "text": [
      "0.8241999999999999\n",
      "MLPClassifier(activation='relu', alpha=0.0001, batch_size='auto', beta_1=0.9,\n",
      "              beta_2=0.999, early_stopping=False, epsilon=1e-08,\n",
      "              hidden_layer_sizes=300, learning_rate='constant',\n",
      "              learning_rate_init=0.001, max_fun=15000, max_iter=200,\n",
      "              momentum=0.9, n_iter_no_change=10, nesterovs_momentum=True,\n",
      "              power_t=0.5, random_state=1, shuffle=True, solver='adam',\n",
      "              tol=0.0001, validation_fraction=0.1, verbose=False,\n",
      "              warm_start=False)\n"
     ]
    }
   ],
   "source": [
    "mlp = MLPClassifier()\n",
    "mlp_param_grid = {\n",
    "    'solver':['sgd', 'adam'],\n",
    "    'hidden_layer_sizes':[100, 200, 300],\n",
    "    'random_state':[1]\n",
    "}\n",
    "mlp_grid = GridSearchCV(mlp, param_grid=mlp_param_grid, scoring='accuracy', n_jobs=4, verbose=1)\n",
    "mlp_grid.fit(x,y)\n",
    "\n",
    "mlp_best = mlp_grid.best_estimator_\n",
    "print(mlp_grid.best_score_)\n",
    "print(mlp_best)"
   ]
  },
  {
   "cell_type": "code",
   "execution_count": null,
   "metadata": {
    "colab": {
     "base_uri": "https://localhost:8080/",
     "height": 611
    },
    "colab_type": "code",
    "executionInfo": {
     "elapsed": 618190,
     "status": "ok",
     "timestamp": 1598658149367,
     "user": {
      "displayName": "강주현",
      "photoUrl": "https://lh3.googleusercontent.com/a-/AOh14GhI6eR4X0pU-wyWD_lrneGGkf4JwhmGDwx7Dopr=s64",
      "userId": "12298000088270855699"
     },
     "user_tz": -540
    },
    "id": "Tp4os_9a0OfY",
    "outputId": "3f26462d-8f72-4b5b-d62d-92a401a5e9da"
   },
   "outputs": [
    {
     "name": "stderr",
     "output_type": "stream",
     "text": [
      "/usr/local/lib/python3.6/dist-packages/sklearn/preprocessing/_label.py:235: DataConversionWarning: A column-vector y was passed when a 1d array was expected. Please change the shape of y to (n_samples, ), for example using ravel().\n",
      "  y = column_or_1d(y, warn=True)\n",
      "/usr/local/lib/python3.6/dist-packages/sklearn/preprocessing/_label.py:268: DataConversionWarning: A column-vector y was passed when a 1d array was expected. Please change the shape of y to (n_samples, ), for example using ravel().\n",
      "  y = column_or_1d(y, warn=True)\n"
     ]
    },
    {
     "data": {
      "text/plain": [
       "VotingClassifier(estimators=[('rf',\n",
       "                              RandomForestClassifier(bootstrap=False,\n",
       "                                                     ccp_alpha=0.0,\n",
       "                                                     class_weight=None,\n",
       "                                                     criterion='gini',\n",
       "                                                     max_depth=None,\n",
       "                                                     max_features=5,\n",
       "                                                     max_leaf_nodes=None,\n",
       "                                                     max_samples=None,\n",
       "                                                     min_impurity_decrease=0.0,\n",
       "                                                     min_impurity_split=None,\n",
       "                                                     min_samples_leaf=1,\n",
       "                                                     min_samples_split=2,\n",
       "                                                     min_weight_fraction_leaf=0.0,\n",
       "                                                     n_estimators=500,\n",
       "                                                     n_jobs=None,\n",
       "                                                     oob_score=Fal...\n",
       "                                            epsilon=1e-08,\n",
       "                                            hidden_layer_sizes=300,\n",
       "                                            learning_rate='constant',\n",
       "                                            learning_rate_init=0.001,\n",
       "                                            max_fun=15000, max_iter=200,\n",
       "                                            momentum=0.9, n_iter_no_change=10,\n",
       "                                            nesterovs_momentum=True,\n",
       "                                            power_t=0.5, random_state=1,\n",
       "                                            shuffle=True, solver='adam',\n",
       "                                            tol=0.0001, validation_fraction=0.1,\n",
       "                                            verbose=False, warm_start=False))],\n",
       "                 flatten_transform=True, n_jobs=4, voting='soft', weights=None)"
      ]
     },
     "execution_count": 27,
     "metadata": {
      "tags": []
     },
     "output_type": "execute_result"
    }
   ],
   "source": [
    "# voting\n",
    "vote = VotingClassifier(estimators=[('rf', rf_best), ('gb', gb_best), ('svc', svc_best), ('mlp', mlp_best)], voting='soft', n_jobs =4)\n",
    "vote_result = vote.fit(x,y)\n",
    "vote_result"
   ]
  },
  {
   "cell_type": "code",
   "execution_count": null,
   "metadata": {
    "colab": {},
    "colab_type": "code",
    "id": "dZZXIQ7W0Phb"
   },
   "outputs": [],
   "source": [
    "# test = test.drop(['label'], axis=1)\n",
    "# pred = vote.predict(test)\n",
    "# pred"
   ]
  },
  {
   "cell_type": "code",
   "execution_count": null,
   "metadata": {
    "colab": {},
    "colab_type": "code",
    "id": "eBzqk05JFpu9"
   },
   "outputs": [],
   "source": []
  }
 ],
 "metadata": {
  "colab": {
   "authorship_tag": "ABX9TyOEu54q0GjcSlrI22lfFACM",
   "collapsed_sections": [],
   "name": "mnist_fashion.ipynb",
   "provenance": []
  },
  "kernelspec": {
   "display_name": "Python 3",
   "language": "python",
   "name": "python3"
  },
  "language_info": {
   "codemirror_mode": {
    "name": "ipython",
    "version": 3
   },
   "file_extension": ".py",
   "mimetype": "text/x-python",
   "name": "python",
   "nbconvert_exporter": "python",
   "pygments_lexer": "ipython3",
   "version": "3.8.5"
  }
 },
 "nbformat": 4,
 "nbformat_minor": 1
}
